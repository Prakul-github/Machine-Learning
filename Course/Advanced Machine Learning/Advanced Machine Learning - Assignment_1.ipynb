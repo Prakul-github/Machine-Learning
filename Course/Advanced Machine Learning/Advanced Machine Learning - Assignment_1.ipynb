{
 "cells": [
  {
   "cell_type": "markdown",
   "id": "405e2429",
   "metadata": {},
   "source": [
    "# Advanced Machine Learning - Assignment 1"
   ]
  },
  {
   "cell_type": "markdown",
   "id": "85cd094a",
   "metadata": {},
   "source": [
    "## a) Take height as predictor and weight as output. Fit a polynomial of degree 3 to your training data and display the results. Then, report the accuracy of the fit on your test dataset."
   ]
  },
  {
   "cell_type": "code",
   "execution_count": 1,
   "id": "a9e08a0f",
   "metadata": {},
   "outputs": [],
   "source": [
    "import matplotlib.pyplot as plt\n",
    "import numpy as np\n",
    "import pandas as pd"
   ]
  },
  {
   "cell_type": "code",
   "execution_count": 2,
   "id": "5bfbb3f9",
   "metadata": {},
   "outputs": [
    {
     "name": "stdout",
     "output_type": "stream",
     "text": [
      "(10000, 3)\n"
     ]
    }
   ],
   "source": [
    "HW = pd.read_csv(r'C:\\IITR\\IIT - DS&ML\\Assignments\\AML\\Height_Weight.csv')\n",
    "print(HW.shape)"
   ]
  },
  {
   "cell_type": "code",
   "execution_count": 3,
   "id": "949dd0a8",
   "metadata": {},
   "outputs": [
    {
     "data": {
      "text/html": [
       "<div>\n",
       "<style scoped>\n",
       "    .dataframe tbody tr th:only-of-type {\n",
       "        vertical-align: middle;\n",
       "    }\n",
       "\n",
       "    .dataframe tbody tr th {\n",
       "        vertical-align: top;\n",
       "    }\n",
       "\n",
       "    .dataframe thead th {\n",
       "        text-align: right;\n",
       "    }\n",
       "</style>\n",
       "<table border=\"1\" class=\"dataframe\">\n",
       "  <thead>\n",
       "    <tr style=\"text-align: right;\">\n",
       "      <th></th>\n",
       "      <th>Gender</th>\n",
       "      <th>Height</th>\n",
       "      <th>Weight</th>\n",
       "    </tr>\n",
       "  </thead>\n",
       "  <tbody>\n",
       "    <tr>\n",
       "      <th>0</th>\n",
       "      <td>Male</td>\n",
       "      <td>73.847017</td>\n",
       "      <td>241.893563</td>\n",
       "    </tr>\n",
       "    <tr>\n",
       "      <th>1</th>\n",
       "      <td>Male</td>\n",
       "      <td>68.781904</td>\n",
       "      <td>162.310473</td>\n",
       "    </tr>\n",
       "  </tbody>\n",
       "</table>\n",
       "</div>"
      ],
      "text/plain": [
       "  Gender     Height      Weight\n",
       "0   Male  73.847017  241.893563\n",
       "1   Male  68.781904  162.310473"
      ]
     },
     "execution_count": 3,
     "metadata": {},
     "output_type": "execute_result"
    }
   ],
   "source": [
    "HW.head(2)"
   ]
  },
  {
   "cell_type": "code",
   "execution_count": 7,
   "id": "3a6900cd",
   "metadata": {},
   "outputs": [],
   "source": [
    "x = HW.iloc[:,1].values\n",
    "y = HW.iloc[:,2].values"
   ]
  },
  {
   "cell_type": "markdown",
   "id": "f6aa81ec",
   "metadata": {},
   "source": [
    "# Poly feature build, split train and test, Fit Model and Predict"
   ]
  },
  {
   "cell_type": "code",
   "execution_count": 8,
   "id": "df429fad",
   "metadata": {},
   "outputs": [],
   "source": [
    "from sklearn.model_selection import train_test_split\n",
    "from sklearn.preprocessing import PolynomialFeatures\n",
    "from sklearn.linear_model import LinearRegression"
   ]
  },
  {
   "cell_type": "code",
   "execution_count": 9,
   "id": "bfb5fdc7",
   "metadata": {},
   "outputs": [],
   "source": [
    "poly = PolynomialFeatures(degree=3, include_bias = True)"
   ]
  },
  {
   "cell_type": "code",
   "execution_count": 10,
   "id": "a2c6f826",
   "metadata": {},
   "outputs": [],
   "source": [
    "poly_features = poly.fit_transform(x.reshape(-1,1))"
   ]
  },
  {
   "cell_type": "code",
   "execution_count": 11,
   "id": "9f5a109a",
   "metadata": {},
   "outputs": [],
   "source": [
    "xtrain, xtest, ytrain, ytest = train_test_split(poly_features, y, test_size = 0.20, random_state = 0)"
   ]
  },
  {
   "cell_type": "code",
   "execution_count": 12,
   "id": "f29c1106",
   "metadata": {},
   "outputs": [
    {
     "data": {
      "text/plain": [
       "LinearRegression()"
      ]
     },
     "execution_count": 12,
     "metadata": {},
     "output_type": "execute_result"
    }
   ],
   "source": [
    "poly_reg_model = LinearRegression()\n",
    "poly_reg_model.fit(xtrain, ytrain)"
   ]
  },
  {
   "cell_type": "code",
   "execution_count": 13,
   "id": "c63b06c8",
   "metadata": {},
   "outputs": [],
   "source": [
    "ypred = poly_reg_model.predict(xtest)"
   ]
  },
  {
   "cell_type": "markdown",
   "id": "7fdaa1dc",
   "metadata": {},
   "source": [
    "# Accuracy Scores:"
   ]
  },
  {
   "cell_type": "code",
   "execution_count": 16,
   "id": "f1056300",
   "metadata": {},
   "outputs": [
    {
     "name": "stdout",
     "output_type": "stream",
     "text": [
      "Root Mean squared error: 11.99\n",
      "R^2 Score: 0.86\n"
     ]
    }
   ],
   "source": [
    "from sklearn.metrics import r2_score, mean_squared_error\n",
    "\n",
    "# The mean squared error\n",
    "print('Root Mean squared error: %.2f'\n",
    "      % np.sqrt(mean_squared_error(ytest,ypred)))\n",
    "# The coefficient of determination: 1 is perfect prediction\n",
    "print('R^2 Score: %.2f'\n",
    "      % r2_score(ytest,ypred))"
   ]
  },
  {
   "cell_type": "markdown",
   "id": "1acad8e3",
   "metadata": {},
   "source": [
    "# Degree 3 Polynomial plotting"
   ]
  },
  {
   "cell_type": "code",
   "execution_count": 17,
   "id": "eb3f0c83",
   "metadata": {},
   "outputs": [
    {
     "data": {
      "image/png": "[encoded data removed]",
      "text/plain": [
       "<Figure size 432x288 with 1 Axes>"
      ]
     },
     "metadata": {
      "needs_background": "light"
     },
     "output_type": "display_data"
    }
   ],
   "source": [
    "my_model = np.poly1d(np.polyfit(x,y,3))\n",
    "#my_model = np.polyfit(xtrain,ytrain,p)\n",
    "n = len(x)\n",
    "my_line  = np.linspace(40,90,n)\n",
    "\n",
    "plt.scatter(x,y)\n",
    "plt.plot(my_line, my_model(my_line))\n",
    "plt.show()"
   ]
  },
  {
   "cell_type": "markdown",
   "id": "299bc13e",
   "metadata": {},
   "source": [
    "## b) Apply Lasso and Ridge Regression to the above training/test data that you generated in (a), for an alpha value of 100. Report your results and explain your findings"
   ]
  },
  {
   "cell_type": "markdown",
   "id": "a4e563f6",
   "metadata": {},
   "source": [
    "# Ridge Regression"
   ]
  },
  {
   "cell_type": "code",
   "execution_count": 18,
   "id": "cf9a9246",
   "metadata": {},
   "outputs": [],
   "source": [
    "from sklearn.linear_model import Ridge"
   ]
  },
  {
   "cell_type": "code",
   "execution_count": 19,
   "id": "08b821a4",
   "metadata": {},
   "outputs": [],
   "source": [
    "ridgeR = Ridge(alpha=100)\n",
    "ridgeR.fit(xtrain,ytrain)\n",
    "ridge_ypred = ridgeR.predict(xtest)"
   ]
  },
  {
   "cell_type": "code",
   "execution_count": 21,
   "id": "52c7c39c",
   "metadata": {},
   "outputs": [
    {
     "name": "stdout",
     "output_type": "stream",
     "text": [
      "Root Mean squared error: 12.10\n",
      "R^2 Score: 0.86\n"
     ]
    }
   ],
   "source": [
    "from sklearn.metrics import r2_score, mean_squared_error\n",
    "\n",
    "# The mean squared error\n",
    "print('Root Mean squared error: %.2f'\n",
    "      % np.sqrt(mean_squared_error(ytest,ridge_ypred)))\n",
    "# The coefficient of determination: 1 is perfect prediction\n",
    "print('R^2 Score: %.2f'\n",
    "      % r2_score(ytest,ridge_ypred))\n"
   ]
  },
  {
   "cell_type": "markdown",
   "id": "e5067ce4",
   "metadata": {},
   "source": [
    "# Lasso Regression"
   ]
  },
  {
   "cell_type": "code",
   "execution_count": 22,
   "id": "b379fee7",
   "metadata": {},
   "outputs": [],
   "source": [
    "from sklearn.linear_model import Lasso"
   ]
  },
  {
   "cell_type": "code",
   "execution_count": 23,
   "id": "7ee0a1ab",
   "metadata": {},
   "outputs": [],
   "source": [
    "LassoR = Lasso(alpha=100)\n",
    "LassoR.fit(xtrain,ytrain)\n",
    "Lasso_ypred = LassoR.predict(xtest)"
   ]
  },
  {
   "cell_type": "code",
   "execution_count": 24,
   "id": "d2ec7673",
   "metadata": {},
   "outputs": [
    {
     "name": "stdout",
     "output_type": "stream",
     "text": [
      "Root Mean squared error: 12.27\n",
      "R^2 Score: 0.85\n"
     ]
    }
   ],
   "source": [
    "from sklearn.metrics import r2_score, mean_squared_error\n",
    "\n",
    "# The mean squared error\n",
    "print('Root Mean squared error: %.2f'\n",
    "      % np.sqrt(mean_squared_error(ytest,Lasso_ypred)))\n",
    "# The coefficient of determination: 1 is perfect prediction\n",
    "print('R^2 Score: %.2f'\n",
    "      % r2_score(ytest,Lasso_ypred))\n"
   ]
  },
  {
   "cell_type": "markdown",
   "id": "6575dcb8",
   "metadata": {},
   "source": [
    "Compare Intercept and Coefficients"
   ]
  },
  {
   "cell_type": "code",
   "execution_count": 25,
   "id": "20c59d85",
   "metadata": {},
   "outputs": [
    {
     "name": "stdout",
     "output_type": "stream",
     "text": [
      "Polynomial Regression - Intercept and Coefficient\n",
      "4113.737251038335\n",
      "[ 0.00000000e+00 -1.94815400e+02  3.05409003e+00 -1.53086298e-02]\n",
      "Ridge - Intercept and Coefficient\n",
      "-166.08674587795704\n",
      "[ 0.00000000e+00 -9.56503442e-01  1.35379474e-01 -7.01970004e-04]\n",
      "Lasso - Intercept and Coefficient\n",
      "-8.94043841799197\n",
      "[0.         0.         0.         0.00057709]\n"
     ]
    }
   ],
   "source": [
    "print(\"Polynomial Regression - Intercept and Coefficient\")\n",
    "print(poly_reg_model.intercept_)\n",
    "print(poly_reg_model.coef_)\n",
    "\n",
    "print(\"Ridge - Intercept and Coefficient\")\n",
    "print(ridgeR.intercept_)\n",
    "print(ridgeR.coef_)\n",
    "\n",
    "print(\"Lasso - Intercept and Coefficient\")\n",
    "print(LassoR.intercept_)\n",
    "print(LassoR.coef_)"
   ]
  },
  {
   "cell_type": "markdown",
   "id": "215c955c",
   "metadata": {},
   "source": [
    "# Conclusion:\n",
    "\n",
    "### With alpha value 100, Both Ridge and Lasso regression produces almost same result.\n",
    "### Lasso - Coefficient are zero compared to ridge"
   ]
  },
  {
   "cell_type": "code",
   "execution_count": null,
   "id": "fbd4690a",
   "metadata": {},
   "outputs": [],
   "source": []
  }
 ],
 "metadata": {
  "kernelspec": {
   "display_name": "Python 3",
   "language": "python",
   "name": "python3"
  },
  "language_info": {
   "codemirror_mode": {
    "name": "ipython",
    "version": 3
   },
   "file_extension": ".py",
   "mimetype": "text/x-python",
   "name": "python",
   "nbconvert_exporter": "python",
   "pygments_lexer": "ipython3",
   "version": "3.8.8"
  }
 },
 "nbformat": 4,
 "nbformat_minor": 5
}
