{
  "cells": [
    {
      "cell_type": "code",
      "execution_count": 2,
      "metadata": {
        "id": "sDAArP5Xtsye",
        "colab": {
          "base_uri": "https://localhost:8080/"
        },
        "outputId": "8f435f0c-01b3-4c9e-f53a-5cb040de389b"
      },
      "outputs": [
        {
          "output_type": "execute_result",
          "data": {
            "text/plain": [
              "4"
            ]
          },
          "metadata": {},
          "execution_count": 2
        }
      ],
      "source": [
        "#The simplest way to represent vectors in Python is using a list structure.\n",
        "x = [-1.1, 0.0, 3.6, -7.2]\n",
        "len(x)"
      ]
    },
    {
      "cell_type": "code",
      "execution_count": 3,
      "metadata": {
        "id": "AGugTKlTtsyi"
      },
      "outputs": [],
      "source": [
        "x = (-1.1, 0.0, 3.6, -7.2) #Its a tuple of consisting four elements and not a vector\n"
      ]
    },
    {
      "cell_type": "code",
      "execution_count": 4,
      "metadata": {
        "id": "4v57LYFltsyj",
        "colab": {
          "base_uri": "https://localhost:8080/"
        },
        "outputId": "8d6626a7-8ab5-441c-bc53-0e26ed28063a"
      },
      "outputs": [
        {
          "output_type": "execute_result",
          "data": {
            "text/plain": [
              "4"
            ]
          },
          "metadata": {},
          "execution_count": 4
        }
      ],
      "source": [
        "#Another common way to represent vectors in Python is to use a numpy array. To do so,\n",
        "#we must first import the numpy package.\n",
        "import numpy as np\n",
        "x = np.array([-1.1, 0.0, 3.6, -7.2])\n",
        "len(x)"
      ]
    },
    {
      "cell_type": "code",
      "execution_count": 5,
      "metadata": {
        "id": "DwmVhynmtsyj",
        "colab": {
          "base_uri": "https://localhost:8080/"
        },
        "outputId": "377717c0-f44c-4439-f76c-b01c25a7f37e"
      },
      "outputs": [
        {
          "output_type": "execute_result",
          "data": {
            "text/plain": [
              "-7.2"
            ]
          },
          "metadata": {},
          "execution_count": 5
        }
      ],
      "source": [
        "x[3]"
      ]
    },
    {
      "cell_type": "code",
      "execution_count": 6,
      "metadata": {
        "id": "62Rp0Muatsyk",
        "colab": {
          "base_uri": "https://localhost:8080/"
        },
        "outputId": "39e0ede7-5d05-480c-9892-d55439eb27d2"
      },
      "outputs": [
        {
          "output_type": "stream",
          "name": "stdout",
          "text": [
            "[ 7 -5 -1 -1  8 -2]\n"
          ]
        }
      ],
      "source": [
        "x = np.array([1,8,3,2,1,9,7])\n",
        "d = x[1:] - x[:-1]\n",
        "print(d)"
      ]
    },
    {
      "cell_type": "code",
      "execution_count": 7,
      "metadata": {
        "id": "or-pHxPmtsyk",
        "colab": {
          "base_uri": "https://localhost:8080/"
        },
        "outputId": "1b0344dc-f12d-472e-950a-94ad4db6b79f"
      },
      "outputs": [
        {
          "output_type": "stream",
          "name": "stdout",
          "text": [
            "[101 202 303]\n",
            "[ -99 -198 -297]\n"
          ]
        }
      ],
      "source": [
        "#Vector Addition and Subtraction:\n",
        "import numpy as np\n",
        "x = np.array([1, 2, 3])\n",
        "y = np.array([100, 200, 300])\n",
        "print(x+y)\n",
        "print(x-y)"
      ]
    },
    {
      "cell_type": "code",
      "execution_count": 8,
      "metadata": {
        "id": "h0c0K4yAtsyl",
        "colab": {
          "base_uri": "https://localhost:8080/"
        },
        "outputId": "dbc8a655-677d-458e-80d7-41fd79ee2d8e"
      },
      "outputs": [
        {
          "output_type": "stream",
          "name": "stdout",
          "text": [
            "[2.2 4.4 6.6]\n"
          ]
        }
      ],
      "source": [
        "import numpy as np\n",
        "x = np.array([1,2,3])\n",
        "print(2.2*x)"
      ]
    },
    {
      "cell_type": "code",
      "execution_count": 9,
      "metadata": {
        "id": "pkb0attktsyl",
        "colab": {
          "base_uri": "https://localhost:8080/"
        },
        "outputId": "7d9a94eb-28ee-4b44-c387-f907adfab028"
      },
      "outputs": [
        {
          "output_type": "stream",
          "name": "stdout",
          "text": [
            "[0.45454545 0.90909091 1.36363636]\n"
          ]
        }
      ],
      "source": [
        "import numpy as np\n",
        "x = np.array([1,2,3])\n",
        "print(x/2.2)"
      ]
    },
    {
      "cell_type": "code",
      "execution_count": 10,
      "metadata": {
        "id": "JNvfr0iFtsym",
        "colab": {
          "base_uri": "https://localhost:8080/"
        },
        "outputId": "34ca475e-c66d-4571-8012-e3a39df2fd61"
      },
      "outputs": [
        {
          "output_type": "stream",
          "name": "stdout",
          "text": [
            "[4. 5.]\n"
          ]
        }
      ],
      "source": [
        "#Linear combination:\n",
        "import numpy as np\n",
        "a = np.array([1,2])\n",
        "b = np.array([3,4])\n",
        "alpha = -0.5\n",
        "beta = 1.5\n",
        "c = alpha*a + beta*b\n",
        "print(c)"
      ]
    },
    {
      "cell_type": "code",
      "execution_count": 11,
      "metadata": {
        "id": "a8h4KusItsyn",
        "colab": {
          "base_uri": "https://localhost:8080/"
        },
        "outputId": "c6d07027-9efd-4fe7-8572-296aa629101c"
      },
      "outputs": [
        {
          "output_type": "stream",
          "name": "stdout",
          "text": [
            "-7\n"
          ]
        }
      ],
      "source": [
        "#The inner product of n-vector x and y:\n",
        "import numpy as np\n",
        "x = np.array([-1,2,2])\n",
        "y = np.array([1,0,-3])\n",
        "print(np.inner(x,y))"
      ]
    },
    {
      "cell_type": "code",
      "execution_count": 12,
      "metadata": {
        "id": "Zm4a-ve5tsyn",
        "colab": {
          "base_uri": "https://localhost:8080/"
        },
        "outputId": "6048e041-ce93-445c-c444-659bee0e6d3c"
      },
      "outputs": [
        {
          "output_type": "execute_result",
          "data": {
            "text/plain": [
              "-7"
            ]
          },
          "metadata": {},
          "execution_count": 12
        }
      ],
      "source": [
        "#Alternative way:\n",
        "import numpy as np\n",
        "x = np.array([-1,2,2])\n",
        "y = np.array([1,0,-3])\n",
        "x @ y"
      ]
    },
    {
      "cell_type": "code",
      "execution_count": 13,
      "metadata": {
        "id": "kFCsIkZ_tsyo",
        "colab": {
          "base_uri": "https://localhost:8080/"
        },
        "outputId": "9f1ea722-ada3-4041-c370-56dc015aec5a"
      },
      "outputs": [
        {
          "output_type": "stream",
          "name": "stdout",
          "text": [
            "3.0\n"
          ]
        }
      ],
      "source": [
        "#Norm (length) of a vector:\n",
        "x = np.array([2,-1,2])\n",
        "print(np.linalg.norm(x))"
      ]
    },
    {
      "cell_type": "code",
      "execution_count": 14,
      "metadata": {
        "id": "5m9gkujjtsyo",
        "colab": {
          "base_uri": "https://localhost:8080/"
        },
        "outputId": "d2205063-11ae-4a45-da1e-7e45a0a2b565"
      },
      "outputs": [
        {
          "output_type": "stream",
          "name": "stdout",
          "text": [
            "8.367795408588812\n"
          ]
        }
      ],
      "source": [
        "#Distance between two vectors:\n",
        "u = np.array([1.8, 2.0, -3.7, 4.7])\n",
        "v = np.array([0.6, 2.1, 1.9, -1.4])\n",
        "print(np.linalg.norm(u-v))"
      ]
    },
    {
      "cell_type": "code",
      "execution_count": 15,
      "metadata": {
        "id": "OjucM10vtsyp",
        "colab": {
          "base_uri": "https://localhost:8080/"
        },
        "outputId": "3fedb659-c838-4684-f6f9-db36809720b7"
      },
      "outputs": [
        {
          "output_type": "stream",
          "name": "stdout",
          "text": [
            "Norm of a1: 1.0\n",
            "Norm of a2: 0.9999999999999999\n",
            "Norm of a3: 0.9999999999999999\n"
          ]
        }
      ],
      "source": [
        "#Orthonormal Vectors:\n",
        "a1 = np.array([0,0,-1])\n",
        "a2 = np.array([1,1,0])/(2)**0.5\n",
        "a3 = np.array([1,-1,0])/(2)**0.5\n",
        "print('Norm of a1:', (sum(a1**2))**0.5)\n",
        "print('Norm of a2:', (sum(a2**2))**0.5)\n",
        "print('Norm of a3:', (sum(a3**2))**0.5)"
      ]
    },
    {
      "cell_type": "code",
      "execution_count": 17,
      "metadata": {
        "id": "Yz7WNTsMtsyp",
        "colab": {
          "base_uri": "https://localhost:8080/"
        },
        "outputId": "72a6dd6e-d419-49c3-8449-df1297328050"
      },
      "outputs": [
        {
          "output_type": "stream",
          "name": "stdout",
          "text": [
            "0.0 0.0 -2.2371143170757382e-17\n"
          ]
        }
      ],
      "source": [
        "print(a1 @ a2, a1 @ a3, a2 @ a3)"
      ]
    },
    {
      "cell_type": "code",
      "execution_count": 18,
      "metadata": {
        "id": "chlfeNuEtsyp",
        "colab": {
          "base_uri": "https://localhost:8080/"
        },
        "outputId": "bd8489a6-2898-4502-dce6-8c1e5bad9e0a"
      },
      "outputs": [
        {
          "output_type": "stream",
          "name": "stdout",
          "text": [
            "[1. 2. 3.]\n"
          ]
        }
      ],
      "source": [
        "#Coefficients in orthonormal basis:\n",
        "x = np.array([1,2,3])\n",
        "#Get coefficients of x in orthonormal basis\n",
        "beta1 = a1 @ x\n",
        "beta2 = a2 @ x\n",
        "beta3 = a3 @ x\n",
        "#Expansion of x in basis\n",
        "x_expansion = beta1*a1 + beta2*a2 + beta3*a3\n",
        "print(x_expansion)"
      ]
    },
    {
      "cell_type": "code",
      "execution_count": 19,
      "metadata": {
        "id": "zYK31DqFtsyq",
        "colab": {
          "base_uri": "https://localhost:8080/"
        },
        "outputId": "8a59f9bd-7d2b-43fc-de3f-1816a97b9f90"
      },
      "outputs": [
        {
          "output_type": "stream",
          "name": "stdout",
          "text": [
            "[[ 1  2  3]\n",
            " [ 2 -1  1]]\n"
          ]
        }
      ],
      "source": [
        "import numpy as np\n",
        "A=np.array([[1,2,3],[2, -1, 1]])\n",
        "print(A)"
      ]
    },
    {
      "cell_type": "code",
      "execution_count": 20,
      "metadata": {
        "id": "_XfSAxMZtsyq",
        "colab": {
          "base_uri": "https://localhost:8080/"
        },
        "outputId": "c7d97c32-4ed7-4201-fa11-f931fdec4ac6"
      },
      "outputs": [
        {
          "output_type": "execute_result",
          "data": {
            "text/plain": [
              "(2, 3)"
            ]
          },
          "metadata": {},
          "execution_count": 20
        }
      ],
      "source": [
        "A.shape"
      ]
    },
    {
      "cell_type": "code",
      "execution_count": 21,
      "metadata": {
        "id": "LkByeUFktsyq",
        "colab": {
          "base_uri": "https://localhost:8080/"
        },
        "outputId": "d88a9d27-ae22-4085-b702-2a852c04cb32"
      },
      "outputs": [
        {
          "output_type": "execute_result",
          "data": {
            "text/plain": [
              "1"
            ]
          },
          "metadata": {},
          "execution_count": 21
        }
      ],
      "source": [
        "A[0,0]"
      ]
    },
    {
      "cell_type": "code",
      "execution_count": 22,
      "metadata": {
        "id": "y5bTOz38tsyr",
        "colab": {
          "base_uri": "https://localhost:8080/"
        },
        "outputId": "13e30020-22e1-4a47-ab8f-8332b7dfbccd"
      },
      "outputs": [
        {
          "output_type": "execute_result",
          "data": {
            "text/plain": [
              "array([1, 2, 3])"
            ]
          },
          "metadata": {},
          "execution_count": 22
        }
      ],
      "source": [
        "A[0,:]"
      ]
    },
    {
      "cell_type": "code",
      "execution_count": 35,
      "metadata": {
        "id": "Va_WFOpGtsyr",
        "colab": {
          "base_uri": "https://localhost:8080/"
        },
        "outputId": "70873761-1bf4-4b2e-c5e6-bbc3185be7ba"
      },
      "outputs": [
        {
          "output_type": "stream",
          "name": "stdout",
          "text": [
            "[[ 1  2 -1]\n",
            " [ 2  2  2]\n",
            " [ 1  3  2]]\n"
          ]
        }
      ],
      "source": [
        "B=np.array([[1, 2, -1],[2, 2, 2], [1, 3, 2]])\n",
        "print(B)"
      ]
    },
    {
      "cell_type": "code",
      "execution_count": 36,
      "metadata": {
        "id": "YfCTU4o2tsyr",
        "colab": {
          "base_uri": "https://localhost:8080/"
        },
        "outputId": "6eed805a-d121-440a-bba2-a43453b1c47b"
      },
      "outputs": [
        {
          "output_type": "stream",
          "name": "stdout",
          "text": [
            "-10.000000000000002\n"
          ]
        }
      ],
      "source": [
        "print(np.linalg.det(B))"
      ]
    },
    {
      "cell_type": "code",
      "execution_count": 37,
      "metadata": {
        "id": "nNCxZuxQtsyr",
        "colab": {
          "base_uri": "https://localhost:8080/"
        },
        "outputId": "492aaa4c-9ad5-4e27-b132-61d346724ed6"
      },
      "outputs": [
        {
          "output_type": "stream",
          "name": "stdout",
          "text": [
            "(array([ 4.77016191,  1.56735537, -1.33751728]), array([[-0.14322508, -0.71511923,  0.69072431],\n",
            "       [-0.64521769,  0.13959725, -0.62836086],\n",
            "       [-0.75045367,  0.68492123,  0.3578583 ]]))\n"
          ]
        }
      ],
      "source": [
        "eval, evec =np.linalg.eig(B)\n",
        "print(eigen)"
      ]
    },
    {
      "cell_type": "code",
      "execution_count": 38,
      "metadata": {
        "id": "BmTGsIlPtsyr",
        "colab": {
          "base_uri": "https://localhost:8080/"
        },
        "outputId": "2567c883-9ba1-4cef-fafb-ac2a13231b19"
      },
      "outputs": [
        {
          "output_type": "stream",
          "name": "stdout",
          "text": [
            "[ 4.77016191  1.56735537 -1.33751728]\n"
          ]
        }
      ],
      "source": [
        "print(eval)\n"
      ]
    },
    {
      "cell_type": "code",
      "execution_count": 39,
      "metadata": {
        "id": "ZiYzygkbtsys",
        "colab": {
          "base_uri": "https://localhost:8080/"
        },
        "outputId": "25294f08-0e8a-474d-a5e7-ec5d6e647fb9"
      },
      "outputs": [
        {
          "output_type": "stream",
          "name": "stdout",
          "text": [
            "[[-0.14322508 -0.71511923  0.69072431]\n",
            " [-0.64521769  0.13959725 -0.62836086]\n",
            " [-0.75045367  0.68492123  0.3578583 ]]\n"
          ]
        }
      ],
      "source": [
        "print(evec)"
      ]
    },
    {
      "cell_type": "code",
      "source": [
        "evec1 = np.array([-0.14322508, -0.64521769,  -0.75045367])\n",
        "np.linalg.norm(evec1)\n",
        "4.77016191*evec1"
      ],
      "metadata": {
        "colab": {
          "base_uri": "https://localhost:8080/"
        },
        "id": "Z0xTGBBLSd8U",
        "outputId": "fcafc3c5-fa97-49f1-cdf5-3e37a014ff5c"
      },
      "execution_count": 46,
      "outputs": [
        {
          "output_type": "execute_result",
          "data": {
            "text/plain": [
              "array([-0.68320682, -3.07779285, -3.57978551])"
            ]
          },
          "metadata": {},
          "execution_count": 46
        }
      ]
    },
    {
      "cell_type": "code",
      "source": [
        "vector1 = 1*evec1\n",
        "np.dot(B,evec1)"
      ],
      "metadata": {
        "colab": {
          "base_uri": "https://localhost:8080/"
        },
        "id": "-nEmFz5oS5bH",
        "outputId": "c708c14f-fec3-4319-8217-de759b9fafb6"
      },
      "execution_count": 45,
      "outputs": [
        {
          "output_type": "execute_result",
          "data": {
            "text/plain": [
              "array([-0.68320679, -3.07779288, -3.57978549])"
            ]
          },
          "metadata": {},
          "execution_count": 45
        }
      ]
    },
    {
      "cell_type": "code",
      "execution_count": null,
      "metadata": {
        "id": "KfgbmP4htsys"
      },
      "outputs": [],
      "source": [
        "C=np.array([[1.5, .5], [1.5, .5]])\n",
        "print(C)"
      ]
    },
    {
      "cell_type": "code",
      "execution_count": null,
      "metadata": {
        "id": "g9nvGmtxtsys"
      },
      "outputs": [],
      "source": [
        "eval, evec=np.linalg.eig(C)"
      ]
    },
    {
      "cell_type": "code",
      "execution_count": null,
      "metadata": {
        "id": "joHFTDmQtsyt"
      },
      "outputs": [],
      "source": [
        "print(eval)"
      ]
    },
    {
      "cell_type": "code",
      "execution_count": null,
      "metadata": {
        "id": "KkqMBmrNtsyt"
      },
      "outputs": [],
      "source": [
        "print(np.linalg.det(C))"
      ]
    },
    {
      "cell_type": "code",
      "execution_count": null,
      "metadata": {
        "id": "yT1XpGsKtsyt"
      },
      "outputs": [],
      "source": [
        "D=np.array([[2, 1], [-1, 2]])\n",
        "print(D)"
      ]
    },
    {
      "cell_type": "code",
      "source": [
        "eval, evec=np.linalg.eig(D)"
      ],
      "metadata": {
        "id": "QO8QHRUWua8s"
      },
      "execution_count": null,
      "outputs": []
    },
    {
      "cell_type": "code",
      "source": [
        "print(eval)"
      ],
      "metadata": {
        "id": "wgRM8dmFubMN"
      },
      "execution_count": null,
      "outputs": []
    }
  ],
  "metadata": {
    "kernelspec": {
      "display_name": "Python 3",
      "language": "python",
      "name": "python3"
    },
    "language_info": {
      "codemirror_mode": {
        "name": "ipython",
        "version": 3
      },
      "file_extension": ".py",
      "mimetype": "text/x-python",
      "name": "python",
      "nbconvert_exporter": "python",
      "pygments_lexer": "ipython3",
      "version": "3.8.5"
    },
    "colab": {
      "name": "Vectors.ipynb",
      "provenance": []
    }
  },
  "nbformat": 4,
  "nbformat_minor": 0
}