{
 "cells": [
  {
   "cell_type": "code",
   "execution_count": 1,
   "metadata": {},
   "outputs": [],
   "source": [
    "#Import libraries\n",
    "import matplotlib.pyplot as plt\n",
    "%matplotlib inline\n",
    "import pandas as pd\n",
    "import numpy as np\n",
    "import seaborn as sns"
   ]
  },
  {
   "cell_type": "code",
   "execution_count": 2,
   "metadata": {},
   "outputs": [],
   "source": [
    "pd.set_option('display.max_columns', None)\n",
    "pd.set_option('display.max_rows', None)"
   ]
  },
  {
   "cell_type": "code",
   "execution_count": 3,
   "metadata": {},
   "outputs": [
    {
     "name": "stdout",
     "output_type": "stream",
     "text": [
      "(55926, 8)\n"
     ]
    }
   ],
   "source": [
    "#odi = pd.read_csv(r'C:\\Users\\pr\\OneDrive\\Official\\Datasets\\ODI_Analytics.csv')\n",
    "odi = pd.read_csv(r'ODI_Analytics.csv')\n",
    "print(odi.shape)"
   ]
  },
  {
   "cell_type": "code",
   "execution_count": 4,
   "metadata": {},
   "outputs": [
    {
     "data": {
      "text/html": [
       "<div>\n",
       "<style scoped>\n",
       "    .dataframe tbody tr th:only-of-type {\n",
       "        vertical-align: middle;\n",
       "    }\n",
       "\n",
       "    .dataframe tbody tr th {\n",
       "        vertical-align: top;\n",
       "    }\n",
       "\n",
       "    .dataframe thead th {\n",
       "        text-align: right;\n",
       "    }\n",
       "</style>\n",
       "<table border=\"1\" class=\"dataframe\">\n",
       "  <thead>\n",
       "    <tr style=\"text-align: right;\">\n",
       "      <th></th>\n",
       "      <th>Country</th>\n",
       "      <th>Player</th>\n",
       "      <th>Runs</th>\n",
       "      <th>ScoreRate</th>\n",
       "      <th>MatchDate</th>\n",
       "      <th>Ground</th>\n",
       "      <th>Versus</th>\n",
       "      <th>URL</th>\n",
       "    </tr>\n",
       "  </thead>\n",
       "  <tbody>\n",
       "    <tr>\n",
       "      <th>0</th>\n",
       "      <td>Afghanistan</td>\n",
       "      <td>Mohammad Shahzad</td>\n",
       "      <td>118.0</td>\n",
       "      <td>97.52</td>\n",
       "      <td>2-16-2010</td>\n",
       "      <td>Sharjah CA Stadium</td>\n",
       "      <td>Canada</td>\n",
       "      <td>../Matches/MatchScorecard_ODI.asp?MatchCode=3087</td>\n",
       "    </tr>\n",
       "    <tr>\n",
       "      <th>1</th>\n",
       "      <td>Afghanistan</td>\n",
       "      <td>Mohammad Shahzad</td>\n",
       "      <td>110.0</td>\n",
       "      <td>99.09</td>\n",
       "      <td>9-1-2009</td>\n",
       "      <td>VRA Ground</td>\n",
       "      <td>Netherlands</td>\n",
       "      <td>../Matches/MatchScorecard_ODI.asp?MatchCode=3008</td>\n",
       "    </tr>\n",
       "    <tr>\n",
       "      <th>2</th>\n",
       "      <td>Afghanistan</td>\n",
       "      <td>Mohammad Shahzad</td>\n",
       "      <td>100.0</td>\n",
       "      <td>138.88</td>\n",
       "      <td>8-16-2010</td>\n",
       "      <td>Cambusdoon New Ground</td>\n",
       "      <td>Scotland</td>\n",
       "      <td>../Matches/MatchScorecard_ODI.asp?MatchCode=3164</td>\n",
       "    </tr>\n",
       "    <tr>\n",
       "      <th>3</th>\n",
       "      <td>Afghanistan</td>\n",
       "      <td>Mohammad Shahzad</td>\n",
       "      <td>82.0</td>\n",
       "      <td>75.92</td>\n",
       "      <td>7-10-2010</td>\n",
       "      <td>Hazelaarweg</td>\n",
       "      <td>Netherlands</td>\n",
       "      <td>../Matches/MatchScorecard_ODI.asp?MatchCode=3153</td>\n",
       "    </tr>\n",
       "    <tr>\n",
       "      <th>4</th>\n",
       "      <td>Afghanistan</td>\n",
       "      <td>Mohammad Shahzad</td>\n",
       "      <td>57.0</td>\n",
       "      <td>100.00</td>\n",
       "      <td>7-1-2010</td>\n",
       "      <td>Sportpark Westvliet</td>\n",
       "      <td>Canada</td>\n",
       "      <td>../Matches/MatchScorecard_ODI.asp?MatchCode=3135</td>\n",
       "    </tr>\n",
       "    <tr>\n",
       "      <th>5</th>\n",
       "      <td>Afghanistan</td>\n",
       "      <td>Mohammad Shahzad</td>\n",
       "      <td>55.0</td>\n",
       "      <td>87.30</td>\n",
       "      <td>7-7-2010</td>\n",
       "      <td>Sportpark Westvliet</td>\n",
       "      <td>Netherlands</td>\n",
       "      <td>../Matches/MatchScorecard_ODI.asp?MatchCode=3147</td>\n",
       "    </tr>\n",
       "    <tr>\n",
       "      <th>6</th>\n",
       "      <td>Afghanistan</td>\n",
       "      <td>Mohammad Shahzad</td>\n",
       "      <td>37.0</td>\n",
       "      <td>80.43</td>\n",
       "      <td>10-9-2010</td>\n",
       "      <td>Gymkhana Club Ground</td>\n",
       "      <td>Kenya</td>\n",
       "      <td>../Matches/MatchScorecard_ODI.asp?MatchCode=3185</td>\n",
       "    </tr>\n",
       "    <tr>\n",
       "      <th>7</th>\n",
       "      <td>Afghanistan</td>\n",
       "      <td>Mohammad Shahzad</td>\n",
       "      <td>34.0</td>\n",
       "      <td>77.27</td>\n",
       "      <td>7-9-2010</td>\n",
       "      <td>Hazelaarweg</td>\n",
       "      <td>Scotland</td>\n",
       "      <td>../Matches/MatchScorecard_ODI.asp?MatchCode=3149</td>\n",
       "    </tr>\n",
       "    <tr>\n",
       "      <th>8</th>\n",
       "      <td>Afghanistan</td>\n",
       "      <td>Mohammad Shahzad</td>\n",
       "      <td>20.0</td>\n",
       "      <td>90.90</td>\n",
       "      <td>7-5-2010</td>\n",
       "      <td>VRA Ground</td>\n",
       "      <td>Kenya</td>\n",
       "      <td>../Matches/MatchScorecard_ODI.asp?MatchCode=3142</td>\n",
       "    </tr>\n",
       "    <tr>\n",
       "      <th>9</th>\n",
       "      <td>Afghanistan</td>\n",
       "      <td>Mohammad Shahzad</td>\n",
       "      <td>16.0</td>\n",
       "      <td>57.14</td>\n",
       "      <td>8-30-2009</td>\n",
       "      <td>VRA Ground</td>\n",
       "      <td>Netherlands</td>\n",
       "      <td>../Matches/MatchScorecard_ODI.asp?MatchCode=3007</td>\n",
       "    </tr>\n",
       "  </tbody>\n",
       "</table>\n",
       "</div>"
      ],
      "text/plain": [
       "       Country            Player   Runs  ScoreRate  MatchDate  \\\n",
       "0  Afghanistan  Mohammad Shahzad  118.0      97.52  2-16-2010   \n",
       "1  Afghanistan  Mohammad Shahzad  110.0      99.09   9-1-2009   \n",
       "2  Afghanistan  Mohammad Shahzad  100.0     138.88  8-16-2010   \n",
       "3  Afghanistan  Mohammad Shahzad   82.0      75.92  7-10-2010   \n",
       "4  Afghanistan  Mohammad Shahzad   57.0     100.00   7-1-2010   \n",
       "5  Afghanistan  Mohammad Shahzad   55.0      87.30   7-7-2010   \n",
       "6  Afghanistan  Mohammad Shahzad   37.0      80.43  10-9-2010   \n",
       "7  Afghanistan  Mohammad Shahzad   34.0      77.27   7-9-2010   \n",
       "8  Afghanistan  Mohammad Shahzad   20.0      90.90   7-5-2010   \n",
       "9  Afghanistan  Mohammad Shahzad   16.0      57.14  8-30-2009   \n",
       "\n",
       "                  Ground       Versus  \\\n",
       "0     Sharjah CA Stadium       Canada   \n",
       "1             VRA Ground  Netherlands   \n",
       "2  Cambusdoon New Ground     Scotland   \n",
       "3            Hazelaarweg  Netherlands   \n",
       "4    Sportpark Westvliet       Canada   \n",
       "5    Sportpark Westvliet  Netherlands   \n",
       "6   Gymkhana Club Ground        Kenya   \n",
       "7            Hazelaarweg     Scotland   \n",
       "8             VRA Ground        Kenya   \n",
       "9             VRA Ground  Netherlands   \n",
       "\n",
       "                                                URL  \n",
       "0  ../Matches/MatchScorecard_ODI.asp?MatchCode=3087  \n",
       "1  ../Matches/MatchScorecard_ODI.asp?MatchCode=3008  \n",
       "2  ../Matches/MatchScorecard_ODI.asp?MatchCode=3164  \n",
       "3  ../Matches/MatchScorecard_ODI.asp?MatchCode=3153  \n",
       "4  ../Matches/MatchScorecard_ODI.asp?MatchCode=3135  \n",
       "5  ../Matches/MatchScorecard_ODI.asp?MatchCode=3147  \n",
       "6  ../Matches/MatchScorecard_ODI.asp?MatchCode=3185  \n",
       "7  ../Matches/MatchScorecard_ODI.asp?MatchCode=3149  \n",
       "8  ../Matches/MatchScorecard_ODI.asp?MatchCode=3142  \n",
       "9  ../Matches/MatchScorecard_ODI.asp?MatchCode=3007  "
      ]
     },
     "execution_count": 4,
     "metadata": {},
     "output_type": "execute_result"
    }
   ],
   "source": [
    "# ODI Data set\n",
    "\n",
    "odi.head(n=10)\n",
    "\n",
    "# Domain -sports\n",
    "# Player's performance in individual matches -runs scored on a particular date in a match\n",
    "# Granularity => Country, Player, Match Date"
   ]
  },
  {
   "cell_type": "code",
   "execution_count": 5,
   "metadata": {},
   "outputs": [
    {
     "data": {
      "text/plain": [
       "Country       object\n",
       "Player        object\n",
       "Runs         float64\n",
       "ScoreRate    float64\n",
       "MatchDate     object\n",
       "Ground        object\n",
       "Versus        object\n",
       "URL           object\n",
       "dtype: object"
      ]
     },
     "execution_count": 5,
     "metadata": {},
     "output_type": "execute_result"
    }
   ],
   "source": [
    "#find the data types of column\n",
    "odi.dtypes"
   ]
  },
  {
   "cell_type": "code",
   "execution_count": 6,
   "metadata": {},
   "outputs": [
    {
     "name": "stdout",
     "output_type": "stream",
     "text": [
      "<class 'pandas.core.frame.DataFrame'>\n",
      "RangeIndex: 55926 entries, 0 to 55925\n",
      "Data columns (total 8 columns):\n",
      " #   Column     Non-Null Count  Dtype  \n",
      "---  ------     --------------  -----  \n",
      " 0   Country    55926 non-null  object \n",
      " 1   Player     55926 non-null  object \n",
      " 2   Runs       55900 non-null  float64\n",
      " 3   ScoreRate  55900 non-null  float64\n",
      " 4   MatchDate  55926 non-null  object \n",
      " 5   Ground     55926 non-null  object \n",
      " 6   Versus     55926 non-null  object \n",
      " 7   URL        55926 non-null  object \n",
      "dtypes: float64(2), object(6)\n",
      "memory usage: 3.4+ MB\n"
     ]
    }
   ],
   "source": [
    "odi.info()"
   ]
  },
  {
   "cell_type": "markdown",
   "metadata": {},
   "source": [
    "#Clasiify the columns\n",
    " - Dimensions/Categorical - Country, Player, Versus, Ground, Versus \n",
    " - Metrics - Runs , ScoreRate    \n",
    " - Location - Country, Ground, Versus\n",
    " - Dates - MatchDate\n",
    " - Text - URL"
   ]
  },
  {
   "cell_type": "code",
   "execution_count": 7,
   "metadata": {},
   "outputs": [
    {
     "data": {
      "text/plain": [
       "Index(['Runs', 'ScoreRate'], dtype='object')"
      ]
     },
     "execution_count": 7,
     "metadata": {},
     "output_type": "execute_result"
    }
   ],
   "source": [
    "# get numeric columns\n",
    "odi._get_numeric_data().columns"
   ]
  },
  {
   "cell_type": "code",
   "execution_count": 8,
   "metadata": {},
   "outputs": [
    {
     "data": {
      "text/html": [
       "<div>\n",
       "<style scoped>\n",
       "    .dataframe tbody tr th:only-of-type {\n",
       "        vertical-align: middle;\n",
       "    }\n",
       "\n",
       "    .dataframe tbody tr th {\n",
       "        vertical-align: top;\n",
       "    }\n",
       "\n",
       "    .dataframe thead th {\n",
       "        text-align: right;\n",
       "    }\n",
       "</style>\n",
       "<table border=\"1\" class=\"dataframe\">\n",
       "  <thead>\n",
       "    <tr style=\"text-align: right;\">\n",
       "      <th></th>\n",
       "      <th>Runs</th>\n",
       "      <th>ScoreRate</th>\n",
       "    </tr>\n",
       "  </thead>\n",
       "  <tbody>\n",
       "    <tr>\n",
       "      <th>count</th>\n",
       "      <td>55900.000000</td>\n",
       "      <td>55900.000000</td>\n",
       "    </tr>\n",
       "    <tr>\n",
       "      <th>mean</th>\n",
       "      <td>22.241413</td>\n",
       "      <td>65.314208</td>\n",
       "    </tr>\n",
       "    <tr>\n",
       "      <th>std</th>\n",
       "      <td>25.558363</td>\n",
       "      <td>44.213423</td>\n",
       "    </tr>\n",
       "    <tr>\n",
       "      <th>min</th>\n",
       "      <td>0.000000</td>\n",
       "      <td>0.000000</td>\n",
       "    </tr>\n",
       "    <tr>\n",
       "      <th>25%</th>\n",
       "      <td>4.000000</td>\n",
       "      <td>37.500000</td>\n",
       "    </tr>\n",
       "    <tr>\n",
       "      <th>50%</th>\n",
       "      <td>13.000000</td>\n",
       "      <td>62.660000</td>\n",
       "    </tr>\n",
       "    <tr>\n",
       "      <th>75%</th>\n",
       "      <td>32.000000</td>\n",
       "      <td>87.500000</td>\n",
       "    </tr>\n",
       "    <tr>\n",
       "      <th>max</th>\n",
       "      <td>200.000000</td>\n",
       "      <td>600.000000</td>\n",
       "    </tr>\n",
       "  </tbody>\n",
       "</table>\n",
       "</div>"
      ],
      "text/plain": [
       "               Runs     ScoreRate\n",
       "count  55900.000000  55900.000000\n",
       "mean      22.241413     65.314208\n",
       "std       25.558363     44.213423\n",
       "min        0.000000      0.000000\n",
       "25%        4.000000     37.500000\n",
       "50%       13.000000     62.660000\n",
       "75%       32.000000     87.500000\n",
       "max      200.000000    600.000000"
      ]
     },
     "execution_count": 8,
     "metadata": {},
     "output_type": "execute_result"
    }
   ],
   "source": [
    "# numeric columns analysis\n",
    "odi.describe()"
   ]
  },
  {
   "cell_type": "code",
   "execution_count": 9,
   "metadata": {},
   "outputs": [
    {
     "data": {
      "text/html": [
       "<div>\n",
       "<style scoped>\n",
       "    .dataframe tbody tr th:only-of-type {\n",
       "        vertical-align: middle;\n",
       "    }\n",
       "\n",
       "    .dataframe tbody tr th {\n",
       "        vertical-align: top;\n",
       "    }\n",
       "\n",
       "    .dataframe thead th {\n",
       "        text-align: right;\n",
       "    }\n",
       "</style>\n",
       "<table border=\"1\" class=\"dataframe\">\n",
       "  <thead>\n",
       "    <tr style=\"text-align: right;\">\n",
       "      <th></th>\n",
       "      <th>Country</th>\n",
       "      <th>Player</th>\n",
       "      <th>MatchDate</th>\n",
       "      <th>Ground</th>\n",
       "      <th>Versus</th>\n",
       "      <th>URL</th>\n",
       "    </tr>\n",
       "  </thead>\n",
       "  <tbody>\n",
       "    <tr>\n",
       "      <th>count</th>\n",
       "      <td>55926</td>\n",
       "      <td>55926</td>\n",
       "      <td>55926</td>\n",
       "      <td>55926</td>\n",
       "      <td>55926</td>\n",
       "      <td>55926</td>\n",
       "    </tr>\n",
       "    <tr>\n",
       "      <th>unique</th>\n",
       "      <td>22</td>\n",
       "      <td>1936</td>\n",
       "      <td>2757</td>\n",
       "      <td>178</td>\n",
       "      <td>25</td>\n",
       "      <td>3209</td>\n",
       "    </tr>\n",
       "    <tr>\n",
       "      <th>top</th>\n",
       "      <td>India</td>\n",
       "      <td>Sachin R Tendulkar</td>\n",
       "      <td>2-4-2007</td>\n",
       "      <td>Sharjah CA Stadium</td>\n",
       "      <td>Australia</td>\n",
       "      <td>../Matches/MatchScorecard_ODI.asp?MatchCode=0753</td>\n",
       "    </tr>\n",
       "    <tr>\n",
       "      <th>freq</th>\n",
       "      <td>6634</td>\n",
       "      <td>442</td>\n",
       "      <td>108</td>\n",
       "      <td>3581</td>\n",
       "      <td>7216</td>\n",
       "      <td>22</td>\n",
       "    </tr>\n",
       "  </tbody>\n",
       "</table>\n",
       "</div>"
      ],
      "text/plain": [
       "       Country              Player MatchDate              Ground     Versus  \\\n",
       "count    55926               55926     55926               55926      55926   \n",
       "unique      22                1936      2757                 178         25   \n",
       "top      India  Sachin R Tendulkar  2-4-2007  Sharjah CA Stadium  Australia   \n",
       "freq      6634                 442       108                3581       7216   \n",
       "\n",
       "                                                     URL  \n",
       "count                                              55926  \n",
       "unique                                              3209  \n",
       "top     ../Matches/MatchScorecard_ODI.asp?MatchCode=0753  \n",
       "freq                                                  22  "
      ]
     },
     "execution_count": 9,
     "metadata": {},
     "output_type": "execute_result"
    }
   ],
   "source": [
    "# describes all string columns or factors\n",
    "odi.describe(include='object')"
   ]
  },
  {
   "cell_type": "code",
   "execution_count": null,
   "metadata": {},
   "outputs": [],
   "source": [
    "odi.head()"
   ]
  },
  {
   "cell_type": "markdown",
   "metadata": {},
   "source": [
    "### Derived Metrics"
   ]
  },
  {
   "cell_type": "code",
   "execution_count": null,
   "metadata": {},
   "outputs": [],
   "source": [
    "#extract multiple columns from existing columns\n",
    "# Date -day, month, year, weekday, Quarter, weekday/weekend, hour details - morning ,noon, night\n",
    "\n",
    "#Convert the object type to datetime object\n",
    "odi['MatchDate']=pd.to_datetime(odi['MatchDate'],format='%m-%d-%Y')"
   ]
  },
  {
   "cell_type": "code",
   "execution_count": null,
   "metadata": {},
   "outputs": [],
   "source": [
    "odi.MatchDate.head()"
   ]
  },
  {
   "cell_type": "code",
   "execution_count": null,
   "metadata": {},
   "outputs": [],
   "source": [
    "#Extract the columns\n",
    "\n",
    "odi['year']=odi['MatchDate'].dt.year\n",
    "odi['month']=odi['MatchDate'].dt.month_name()\n",
    "odi['day']=odi['MatchDate'].dt.day\n",
    "odi['weekday'] = odi['MatchDate'].dt.day_name()\n",
    "odi['season'] = odi['MatchDate'].dt.quarter\n",
    "print(odi[['MatchDate', 'year','month','day','weekday','season']].head(n=20))"
   ]
  },
  {
   "cell_type": "code",
   "execution_count": null,
   "metadata": {},
   "outputs": [],
   "source": [
    "# Numerical columns can be categoriesed\n",
    "# Bin them to different ranges\n",
    "#Runs- Century, Fifty, Duckouts, Missed Century,type_of_run \n",
    "odi['Runs'].head()\n",
    "\n",
    "#odi['Century']=[1 if run>=100 else 0 for run in odi['Runs']]\n",
    "odi['Century']=odi['Runs'].apply(lambda x: 1 if x>=100 else 0)\n",
    "\n",
    "#odi['Fifty']=[1 if run>=50 and run<=99 else 0 for run in odi['Runs']]\n",
    "odi['Fifty']=odi['Runs'].apply(lambda x: 1 if x>=50 and x<=99 else 0)\n",
    "\n",
    "\n",
    "#odi['Duckouts']=[1 if run==0 else 0 for run in odi['Runs']]\n",
    "odi['Duckouts']=odi['Runs'].apply(lambda x: 1 if x==0 else 0)\n",
    "\n",
    "\n",
    "#odi['Missed_Century']=[1 if run>=90 and run<=99 else 0 for run in odi['Runs']]\n",
    "odi['Missed_Century']=odi['Runs'].apply(lambda x: 1 if x>=90 and x<=99 else 0)\n"
   ]
  },
  {
   "cell_type": "markdown",
   "metadata": {},
   "source": [
    "To Tag Quarters Manually\n",
    "\n",
    "'''\n",
    "def return_quarter(m):\n",
    "    if m in ('April','May','June'):\n",
    "        return 'Q1'\n",
    "    elif m in ('July','August','September'):\n",
    "        return 'Q2'\n",
    "    elif m in ('October','November','December'):\n",
    "        return 'Q3'\n",
    "    else:\n",
    "        return 'Q4'\n",
    "odi.month.apply(return_quarter)\n",
    "'''"
   ]
  },
  {
   "cell_type": "code",
   "execution_count": null,
   "metadata": {},
   "outputs": [],
   "source": [
    "#Group by players and find count\n",
    "pl_per=odi[['Player','Runs','Century','Fifty','Duckouts','Missed_Century']].groupby(['Player']).\\\n",
    "agg('sum')"
   ]
  },
  {
   "cell_type": "code",
   "execution_count": null,
   "metadata": {},
   "outputs": [],
   "source": [
    "#Maximum no of runs\n",
    "pl_per.sort_values(by='Runs',ascending=False).head(10)"
   ]
  },
  {
   "cell_type": "code",
   "execution_count": null,
   "metadata": {},
   "outputs": [],
   "source": [
    "#player with max Fifties\n",
    "pl_per.sort_values(by='Fifty',ascending=False).head(10)"
   ]
  },
  {
   "cell_type": "code",
   "execution_count": null,
   "metadata": {},
   "outputs": [],
   "source": [
    "#player with max Duckouts\n",
    "pl_per.sort_values(by='Duckouts',ascending=False).head(10)"
   ]
  },
  {
   "cell_type": "code",
   "execution_count": null,
   "metadata": {},
   "outputs": [],
   "source": [
    "pl_per.sort_values(by='Missed_Century',ascending=False).head(10)"
   ]
  },
  {
   "cell_type": "code",
   "execution_count": null,
   "metadata": {},
   "outputs": [],
   "source": [
    "odi[['Player','season','Runs','Century','Fifty','Duckouts','Missed_Century']].groupby(['Player','season']).agg('sum')"
   ]
  },
  {
   "cell_type": "markdown",
   "metadata": {},
   "source": [
    "#### Season wise, year wise analysis"
   ]
  },
  {
   "cell_type": "markdown",
   "metadata": {},
   "source": [
    "1. For every player from India calculate the season-wise total runs scored bwteen 2006 and 2011\n",
    "2. For every player from India calculate the year-wise total centuries scored bwteen 2006 and 2011"
   ]
  },
  {
   "cell_type": "code",
   "execution_count": null,
   "metadata": {},
   "outputs": [],
   "source": [
    "odi_india = odi[(odi.year>=2006) & (odi.year<=2011)&(odi.Country=='India')]"
   ]
  },
  {
   "cell_type": "code",
   "execution_count": null,
   "metadata": {},
   "outputs": [],
   "source": [
    "pt = odi_india.pivot_table(index='Player', values='Runs',columns= 'season',\n",
    "               aggfunc=sum, fill_value=0,margins=True).sort_values(by=\"All\", ascending=False).head(10)[1:]\n",
    "pt"
   ]
  },
  {
   "cell_type": "code",
   "execution_count": null,
   "metadata": {},
   "outputs": [],
   "source": [
    "plt.figure(figsize=(10, 8))\n",
    "sns.heatmap(pt.drop('All', axis=1),cmap=\"YlGnBu\", annot=True, fmt = '.4g', cbar=False)"
   ]
  },
  {
   "cell_type": "code",
   "execution_count": null,
   "metadata": {},
   "outputs": [],
   "source": [
    "pt = odi_india.pivot_table(index='Player', values='Century',columns= 'year',\n",
    "               aggfunc=sum, fill_value=0,margins=True).sort_values(by=\"All\", ascending=False).head(10)[1:]\n",
    "pt"
   ]
  },
  {
   "cell_type": "code",
   "execution_count": null,
   "metadata": {},
   "outputs": [],
   "source": [
    "plt.figure(figsize=(10, 8))\n",
    "pt.drop('All', axis=1).plot.bar(stacked=True)"
   ]
  },
  {
   "cell_type": "code",
   "execution_count": null,
   "metadata": {},
   "outputs": [],
   "source": [
    "plt.figure(figsize=(10, 8))\n",
    "sns.heatmap(pt.drop('All', axis=1),cmap=\"YlGnBu\", annot=True, cbar=False)"
   ]
  },
  {
   "cell_type": "markdown",
   "metadata": {},
   "source": [
    "#### Count the Number of matches played year wise"
   ]
  },
  {
   "cell_type": "code",
   "execution_count": null,
   "metadata": {},
   "outputs": [],
   "source": [
    "pt = odi_india.pivot_table(index='Player', values='Century',columns= 'year',\n",
    "               aggfunc=len, fill_value=0,margins=True).sort_values(by=\"All\", ascending=False).head(10)[1:]\n",
    "pt"
   ]
  },
  {
   "cell_type": "code",
   "execution_count": null,
   "metadata": {},
   "outputs": [],
   "source": [
    "plt.figure(figsize=(10, 8))\n",
    "sns.heatmap(pt.drop('All', axis=1),cmap=\"YlGnBu\", annot=True, cbar=False)"
   ]
  },
  {
   "cell_type": "markdown",
   "metadata": {},
   "source": [
    "#### Analysis across all years"
   ]
  },
  {
   "cell_type": "code",
   "execution_count": null,
   "metadata": {},
   "outputs": [],
   "source": [
    "odi_india = odi[(odi.Country=='India')]"
   ]
  },
  {
   "cell_type": "code",
   "execution_count": null,
   "metadata": {},
   "outputs": [],
   "source": [
    "year_bins=[1990,2000,2005]"
   ]
  },
  {
   "cell_type": "code",
   "execution_count": null,
   "metadata": {},
   "outputs": [],
   "source": [
    "np.digitize([1990,1975,2004,1995,2005,2011],bins=year_bins)"
   ]
  },
  {
   "cell_type": "code",
   "execution_count": null,
   "metadata": {},
   "outputs": [],
   "source": [
    "labels={0:'1974-1989',\n",
    "        1:'1990-1999',\n",
    "        2:'2000-2004',\n",
    "        3:'2005 onwards'}"
   ]
  },
  {
   "cell_type": "code",
   "execution_count": null,
   "metadata": {},
   "outputs": [],
   "source": [
    "odi['year_bin']=odi['year'].apply(lambda v:np.digitize(v,bins=year_bins)).replace(labels)\n",
    "odi['year_bin'].value_counts()"
   ]
  },
  {
   "cell_type": "code",
   "execution_count": null,
   "metadata": {},
   "outputs": [],
   "source": [
    "odi[['year','year_bin']]"
   ]
  },
  {
   "cell_type": "code",
   "execution_count": null,
   "metadata": {},
   "outputs": [],
   "source": [
    "odi_india = odi[(odi.Country=='India')]"
   ]
  },
  {
   "cell_type": "code",
   "execution_count": null,
   "metadata": {},
   "outputs": [],
   "source": [
    "pt = odi_india.pivot_table(index='Ground', values='MatchDate',columns= 'year_bin',\n",
    "               aggfunc=len, fill_value=0,margins=True).sort_values(by=\"All\", ascending=False).head(10)[1:]\n",
    "pt"
   ]
  },
  {
   "cell_type": "code",
   "execution_count": null,
   "metadata": {},
   "outputs": [],
   "source": [
    "plt.figure(figsize=(10, 8))\n",
    "sns.heatmap(pt.drop('All', axis=1),cmap=\"YlGnBu\", annot=True, fmt = '.4g', cbar=False)"
   ]
  },
  {
   "cell_type": "markdown",
   "metadata": {},
   "source": [
    "### Analysis against Time"
   ]
  },
  {
   "cell_type": "code",
   "execution_count": null,
   "metadata": {},
   "outputs": [],
   "source": [
    "sachin_stat = odi[(odi.Player=='Sachin R Tendulkar')& (odi.year_bin!='1974-1989')]"
   ]
  },
  {
   "cell_type": "code",
   "execution_count": null,
   "metadata": {},
   "outputs": [],
   "source": [
    "sachin_stat.columns"
   ]
  },
  {
   "cell_type": "code",
   "execution_count": null,
   "metadata": {},
   "outputs": [],
   "source": [
    "sachin_stat[['year','Missed_Century']].groupby('year').sum().plot.line(figsize=(14,4))"
   ]
  },
  {
   "cell_type": "code",
   "execution_count": null,
   "metadata": {},
   "outputs": [],
   "source": [
    "sachin_stat[['year','Missed_Century','Century']].groupby('year').sum().plot.line(figsize=(14,4))"
   ]
  }
 ],
 "metadata": {
  "kernelspec": {
   "display_name": "Python 3",
   "language": "python",
   "name": "python3"
  },
  "language_info": {
   "codemirror_mode": {
    "name": "ipython",
    "version": 3
   },
   "file_extension": ".py",
   "mimetype": "text/x-python",
   "name": "python",
   "nbconvert_exporter": "python",
   "pygments_lexer": "ipython3",
   "version": "3.8.8"
  }
 },
 "nbformat": 4,
 "nbformat_minor": 2
}
