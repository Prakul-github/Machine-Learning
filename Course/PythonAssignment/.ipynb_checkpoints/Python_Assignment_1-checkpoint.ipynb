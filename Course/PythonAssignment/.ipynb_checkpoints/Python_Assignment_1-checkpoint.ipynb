{
 "cells": [
  {
   "cell_type": "markdown",
   "id": "28886ecd",
   "metadata": {},
   "source": [
    "# Assinment solving(1)"
   ]
  },
  {
   "cell_type": "markdown",
   "id": "7aec6f40",
   "metadata": {},
   "source": [
    "## Q1- Write a program to sort three integers WITHOUT using conditional statements and loops"
   ]
  },
  {
   "cell_type": "code",
   "execution_count": 1,
   "id": "706b6f59",
   "metadata": {},
   "outputs": [
    {
     "name": "stdout",
     "output_type": "stream",
     "text": [
      "Please enter integers :573\n",
      "Sorted List of integers ['3', '5', '7']\n"
     ]
    }
   ],
   "source": [
    "x = list(input(\"Please enter integers :\"))\n",
    "\n",
    "x.sort(reverse =False)\n",
    "print(\"Sorted List of integers\", x)"
   ]
  },
  {
   "cell_type": "markdown",
   "id": "213d3dba",
   "metadata": {},
   "source": [
    "## Q2 - Write a program to check whether lowercase letters exist in string"
   ]
  },
  {
   "cell_type": "code",
   "execution_count": 2,
   "id": "d2e4ddca",
   "metadata": {},
   "outputs": [
    {
     "name": "stdout",
     "output_type": "stream",
     "text": [
      "Please enter a string :Hello\n",
      "Lower case letter exists in string : Hello\n"
     ]
    }
   ],
   "source": [
    "def isLower(string):\n",
    "    for char in inputString:        \n",
    "        if char.islower() == True:\n",
    "            return True\n",
    "        \n",
    "    return False\n",
    "\n",
    "inputString = input(\"Please enter a string :\")\n",
    "\n",
    "if isLower(inputString) == True:\n",
    "    print(\"Lower case letter exists in string : \" + inputString)\n",
    "else:\n",
    "    print(\"Lower case letter doesn't exist in string : \" + inputString)    "
   ]
  },
  {
   "cell_type": "markdown",
   "id": "176ded67",
   "metadata": {},
   "source": [
    "## Q3- Write a program to reverse a positive integer number."
   ]
  },
  {
   "cell_type": "code",
   "execution_count": 3,
   "id": "b1dffdb1",
   "metadata": {},
   "outputs": [
    {
     "name": "stdout",
     "output_type": "stream",
     "text": [
      "Please enter a positive integer:574\n",
      "Reverse a positive integer number 574 is 475\n"
     ]
    }
   ],
   "source": [
    "def ReverseInteger(num):\n",
    "    reverse = 0\n",
    "    while num > 0:        \n",
    "        reverse = reverse * 10 + num%10\n",
    "        num = num//10\n",
    "    return reverse    \n",
    "\n",
    "inputValue = input(\"Please enter a positive integer:\")\n",
    "print(\"Reverse a positive integer number \" + str(inputValue) + \" is \" + str(ReverseInteger(int(inputValue))))"
   ]
  },
  {
   "cell_type": "markdown",
   "id": "60abfacc",
   "metadata": {},
   "source": [
    "## Q4- Write a program to check if a value 99 exists in dictionary."
   ]
  },
  {
   "attachments": {
    "python%20pictur%281%29.PNG": {
     "image/png": "[encoded data removed]"
    }
   },
   "cell_type": "markdown",
   "id": "56bde84b",
   "metadata": {},
   "source": [
    "![python%20pictur%281%29.PNG](attachment:python%20pictur%281%29.PNG)"
   ]
  },
  {
   "cell_type": "code",
   "execution_count": 4,
   "id": "5f8712f6",
   "metadata": {
    "scrolled": false
   },
   "outputs": [
    {
     "name": "stdout",
     "output_type": "stream",
     "text": [
      "Value 99 exists in dictionary {'Sachin': 10, 'MSD': 7, 'Ravindra': 8, 'Ravichandran': 99}\n"
     ]
    }
   ],
   "source": [
    "dict1 = {\"Sachin\":10,\"MSD\":7,\"Ravindra\":8,\"Ravichandran\":99}\n",
    "\n",
    "for x in dict1.values():\n",
    "    if x == 99:\n",
    "        print(\"Value 99 exists in dictionary\", dict1)\n",
    "        break"
   ]
  },
  {
   "cell_type": "markdown",
   "id": "41a1dcd3",
   "metadata": {},
   "source": [
    "##  Q5- Write the program to swap two tuples"
   ]
  },
  {
   "attachments": {
    "image.png": {
     "image/png": "[encoded data removed]"
    }
   },
   "cell_type": "markdown",
   "id": "bc2295d6",
   "metadata": {},
   "source": [
    "![image.png](attachment:image.png)"
   ]
  },
  {
   "cell_type": "code",
   "execution_count": 5,
   "id": "ec54d366",
   "metadata": {},
   "outputs": [
    {
     "name": "stdout",
     "output_type": "stream",
     "text": [
      "Tuple 1 : (33, 44)\n",
      "Tuple 2 : (11, 22)\n"
     ]
    }
   ],
   "source": [
    "Tuple1 = (11,22)\n",
    "Tuple2 = (33,44)\n",
    "\n",
    "tempTuple = Tuple1\n",
    "Tuple1 = Tuple2\n",
    "Tuple2 = tempTuple\n",
    "\n",
    "print(\"Tuple 1 :\", Tuple1)\n",
    "print(\"Tuple 2 :\", Tuple2)"
   ]
  },
  {
   "cell_type": "markdown",
   "id": "0b2c7606",
   "metadata": {},
   "source": [
    "## Q6- Write the program to check if all items in the given tuple are the same."
   ]
  },
  {
   "attachments": {
    "image.png": {
     "image/png": "[encoded data removed]"
    }
   },
   "cell_type": "markdown",
   "id": "9bc71249",
   "metadata": {},
   "source": [
    "![image.png](attachment:image.png)"
   ]
  },
  {
   "cell_type": "code",
   "execution_count": 6,
   "id": "f6838f1a",
   "metadata": {},
   "outputs": [
    {
     "name": "stdout",
     "output_type": "stream",
     "text": [
      "All Elements of Tuple are not same\n"
     ]
    }
   ],
   "source": [
    "def CheckAllItems(t1):\n",
    "    flag = True\n",
    "    if len(tuple1) > 0:        \n",
    "        firstVal = t1[0]\n",
    "\n",
    "        for item in t1:\n",
    "            if(item != firstVal):\n",
    "                flag = False\n",
    "                break\n",
    "    return flag\n",
    "            \n",
    "tuple1 = (10,10,10,100)\n",
    "if CheckAllItems(tuple1) == True:\n",
    "    print(\"All Elements of Tuple are same\")\n",
    "else:\n",
    "    print(\"All Elements of Tuple are not same\")"
   ]
  },
  {
   "cell_type": "markdown",
   "id": "2d8c7392",
   "metadata": {},
   "source": [
    "## Q7-Write a program to delete set of key from a dictionary"
   ]
  },
  {
   "attachments": {
    "image.png": {
     "image/png": "[encoded data removed]"
    }
   },
   "cell_type": "markdown",
   "id": "8fa377b8",
   "metadata": {},
   "source": [
    "![image.png](attachment:image.png)"
   ]
  },
  {
   "cell_type": "code",
   "execution_count": 7,
   "id": "e0273faa",
   "metadata": {},
   "outputs": [
    {
     "name": "stdout",
     "output_type": "stream",
     "text": [
      "{'Name': 'Rishab Pant', 'Run': 2444}\n"
     ]
    }
   ],
   "source": [
    "def RemoveKeys(dict1, keysToRemove):\n",
    "    for key in keysToRemove:\n",
    "        del dict1[key]\n",
    "    \n",
    "dict1 = {'Name':'Rishab Pant', 'Age':23,'Run':2444,'Country':'India'}\n",
    "keysToRemove = [\"Age\",\"Country\"]\n",
    "\n",
    "RemoveKeys(dict1, keysToRemove)\n",
    "\n",
    "print(dict1)"
   ]
  },
  {
   "cell_type": "markdown",
   "id": "3311f71d",
   "metadata": {},
   "source": [
    "## Q8-Write a program to slice a given list into 3 equal chunks and reverse each chunk."
   ]
  },
  {
   "attachments": {
    "image.png": {
     "image/png": "[encoded data removed]"
    }
   },
   "cell_type": "markdown",
   "id": "a3e49762",
   "metadata": {},
   "source": [
    "![image.png](attachment:image.png)"
   ]
  },
  {
   "cell_type": "code",
   "execution_count": 8,
   "id": "d00a0751",
   "metadata": {},
   "outputs": [
    {
     "name": "stdout",
     "output_type": "stream",
     "text": [
      "Chunk1 [2, 4, 6]\n",
      "Reverse Chunk1 [6, 4, 2]\n",
      "Chunk2 [8, 10, 12]\n",
      "Reverse Chunk2 [12, 10, 8]\n",
      "Chunk3 [14, 16, 18]\n",
      "Reverse Chunk3 [18, 16, 14]\n"
     ]
    }
   ],
   "source": [
    "List = [2,4,6,8,10,12,14,16,18]\n",
    "\n",
    "Chunk1 = List[0:3]\n",
    "print(\"Chunk1\", Chunk1)\n",
    "Chunk1.reverse()\n",
    "print(\"Reverse Chunk1\", Chunk1)\n",
    "\n",
    "\n",
    "Chunk2 = List[3:6]\n",
    "print(\"Chunk2\", Chunk2)\n",
    "Chunk2.reverse()\n",
    "print(\"Reverse Chunk2\", Chunk2)\n",
    "\n",
    "\n",
    "Chunk3 = List[6:9]\n",
    "print(\"Chunk3\", Chunk3)\n",
    "Chunk3.reverse()\n",
    "print(\"Reverse Chunk3\", Chunk3)\n",
    "\n"
   ]
  },
  {
   "cell_type": "markdown",
   "id": "11198351",
   "metadata": {},
   "source": [
    "##  Q9 -Write a program to delete set of key from a dictionary."
   ]
  },
  {
   "attachments": {
    "image.png": {
     "image/png": "[encoded data removed]"
    }
   },
   "cell_type": "markdown",
   "id": "88a85b56",
   "metadata": {},
   "source": [
    "![image.png](attachment:image.png)"
   ]
  },
  {
   "cell_type": "code",
   "execution_count": 9,
   "id": "b7399b68",
   "metadata": {},
   "outputs": [
    {
     "name": "stdout",
     "output_type": "stream",
     "text": [
      "{'Name': 'Rishabh Pant', 'Runs': 2444}\n"
     ]
    }
   ],
   "source": [
    "def RemoveKeys(dict1, keysToRemove):\n",
    "    for key in keysToRemove:\n",
    "        dict1.pop(key)\n",
    "\n",
    "Dict = {\"Name\":\"Rishabh Pant\" , \"Age\":23,\"Runs\":2444,\"Country\":\"India\"}\n",
    "KeysToRemove = [\"Age\",\"Country\"]\n",
    "\n",
    "RemoveKeys(Dict, KeysToRemove)\n",
    "\n",
    "print(Dict)"
   ]
  },
  {
   "cell_type": "markdown",
   "id": "34eb6e6f",
   "metadata": {},
   "source": [
    "## Q-10 Write a program to sort the list in a dictionary"
   ]
  },
  {
   "attachments": {
    "image.png": {
     "image/png": "[encoded data removed]"
    }
   },
   "cell_type": "markdown",
   "id": "af66df2f",
   "metadata": {},
   "source": [
    "![image.png](attachment:image.png)"
   ]
  },
  {
   "cell_type": "code",
   "execution_count": 10,
   "id": "8bd0ff17",
   "metadata": {},
   "outputs": [
    {
     "name": "stdout",
     "output_type": "stream",
     "text": [
      "Dictionary with Sorted List : {'n1': ['A', 'a', 'c'], 'n2': ['1', '9', 'w'], 'n3': ['0', '5', '9']}\n"
     ]
    }
   ],
   "source": [
    "dict1 = {\"n1\":[\"a\",\"A\",\"c\"],\"n2\":[\"9\",\"1\",\"w\"],\"n3\":[\"5\",\"9\",\"0\"]}\n",
    "\n",
    "for item in dict1.values():\n",
    "    item.sort()\n",
    "    \n",
    "print(\"Dictionary with Sorted List :\", dict1)"
   ]
  },
  {
   "cell_type": "markdown",
   "id": "9e576621",
   "metadata": {},
   "source": [
    "## Q-11 Write a program to calculate the average value of the numbers in a given tuple of tuples"
   ]
  },
  {
   "attachments": {
    "image.png": {
     "image/png": "[encoded data removed]"
    }
   },
   "cell_type": "markdown",
   "id": "ba000a73",
   "metadata": {},
   "source": [
    "![image.png](attachment:image.png)"
   ]
  },
  {
   "cell_type": "code",
   "execution_count": 11,
   "id": "ea0aa143",
   "metadata": {},
   "outputs": [
    {
     "name": "stdout",
     "output_type": "stream",
     "text": [
      "Average value of the numbers of tuple of Tuples :  [12.666666666666666, 14.0, 16.0, 17.333333333333332]\n"
     ]
    }
   ],
   "source": [
    "def average(t1):\n",
    "    return [sum(x)/len(x) for x in zip(*t1)]\n",
    "\n",
    "tuples= ((10,10,20,10),(12,14,15,25),(16,18,13,17))\n",
    "     \n",
    "print(\"Average value of the numbers of tuple of Tuples : \", average(tuples))"
   ]
  },
  {
   "cell_type": "markdown",
   "id": "ae390f06",
   "metadata": {},
   "source": [
    "## Q-12 Write a program to convert a given tuple of positive integers into an integer"
   ]
  },
  {
   "attachments": {
    "image.png": {
     "image/png": "[encoded data removed]"
    }
   },
   "cell_type": "markdown",
   "id": "9f759920",
   "metadata": {},
   "source": [
    "![image.png](attachment:image.png)"
   ]
  },
  {
   "cell_type": "code",
   "execution_count": 12,
   "id": "34bcc938",
   "metadata": {},
   "outputs": [
    {
     "name": "stdout",
     "output_type": "stream",
     "text": [
      "Integer val : 123\n"
     ]
    }
   ],
   "source": [
    "def ConvertToInt(tuple1):\n",
    "    x = 0\n",
    "    for i in tuple1:    \n",
    "        x = x * 10 + int(i)\n",
    "    return x\n",
    "\n",
    "tuple1 = (1,2,3)\n",
    "intVal = ConvertToInt(tuple1)\n",
    "print(\"Integer val :\", intVal)\n"
   ]
  },
  {
   "cell_type": "code",
   "execution_count": null,
   "id": "4fc52156",
   "metadata": {},
   "outputs": [],
   "source": []
  }
 ],
 "metadata": {
  "kernelspec": {
   "display_name": "Python 3",
   "language": "python",
   "name": "python3"
  },
  "language_info": {
   "codemirror_mode": {
    "name": "ipython",
    "version": 3
   },
   "file_extension": ".py",
   "mimetype": "text/x-python",
   "name": "python",
   "nbconvert_exporter": "python",
   "pygments_lexer": "ipython3",
   "version": "3.8.8"
  }
 },
 "nbformat": 4,
 "nbformat_minor": 5
}
