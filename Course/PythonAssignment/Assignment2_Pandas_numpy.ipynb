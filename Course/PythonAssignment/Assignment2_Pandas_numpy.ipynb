{
 "cells": [
  {
   "cell_type": "markdown",
   "id": "2636df24",
   "metadata": {},
   "source": [
    "## Q1: Write a Pandas program to add, subtract, multiple and divide two Pandas Series."
   ]
  },
  {
   "attachments": {
    "image.png": {
     "image/png": "[encoded data removed]"
    }
   },
   "cell_type": "markdown",
   "id": "6e1be836",
   "metadata": {},
   "source": [
    "![image.png](attachment:image.png)"
   ]
  },
  {
   "cell_type": "code",
   "execution_count": 2,
   "id": "31013531",
   "metadata": {},
   "outputs": [],
   "source": [
    "import pandas as pd"
   ]
  },
  {
   "cell_type": "code",
   "execution_count": 6,
   "id": "db1d6b5c",
   "metadata": {},
   "outputs": [],
   "source": [
    "series1 = pd.Series([2,4,6,8,10])\n",
    "series2 = pd.Series([1,3,5,7,9])"
   ]
  },
  {
   "cell_type": "code",
   "execution_count": 11,
   "id": "97f682a6",
   "metadata": {},
   "outputs": [],
   "source": [
    "def AddSeries(s1, s2):\n",
    "    return s1 + s2\n",
    "\n",
    "def SubtractSeries(s1, s2):\n",
    "    return s1 - s2\n",
    "\n",
    "def MultiplySeries(s1, s2):\n",
    "    return s1 * s2\n",
    "\n",
    "def DivideSeries(s1, s2):\n",
    "    return s1 / s2"
   ]
  },
  {
   "cell_type": "code",
   "execution_count": 13,
   "id": "be9e196d",
   "metadata": {},
   "outputs": [
    {
     "data": {
      "text/plain": [
       "0     3\n",
       "1     7\n",
       "2    11\n",
       "3    15\n",
       "4    19\n",
       "dtype: int64"
      ]
     },
     "execution_count": 13,
     "metadata": {},
     "output_type": "execute_result"
    }
   ],
   "source": [
    "AddSeries(series1, series2)"
   ]
  },
  {
   "cell_type": "code",
   "execution_count": 14,
   "id": "7ad2088d",
   "metadata": {},
   "outputs": [
    {
     "data": {
      "text/plain": [
       "0    1\n",
       "1    1\n",
       "2    1\n",
       "3    1\n",
       "4    1\n",
       "dtype: int64"
      ]
     },
     "execution_count": 14,
     "metadata": {},
     "output_type": "execute_result"
    }
   ],
   "source": [
    "SubtractSeries(series1, series2)"
   ]
  },
  {
   "cell_type": "code",
   "execution_count": 16,
   "id": "8cb574f0",
   "metadata": {},
   "outputs": [
    {
     "data": {
      "text/plain": [
       "0     2\n",
       "1    12\n",
       "2    30\n",
       "3    56\n",
       "4    90\n",
       "dtype: int64"
      ]
     },
     "execution_count": 16,
     "metadata": {},
     "output_type": "execute_result"
    }
   ],
   "source": [
    "MultiplySeries(series1, series2)"
   ]
  },
  {
   "cell_type": "code",
   "execution_count": 17,
   "id": "ad515961",
   "metadata": {},
   "outputs": [
    {
     "data": {
      "text/plain": [
       "0    2.000000\n",
       "1    1.333333\n",
       "2    1.200000\n",
       "3    1.142857\n",
       "4    1.111111\n",
       "dtype: float64"
      ]
     },
     "execution_count": 17,
     "metadata": {},
     "output_type": "execute_result"
    }
   ],
   "source": [
    "DivideSeries(series1, series2)"
   ]
  },
  {
   "cell_type": "markdown",
   "id": "2be8d2bd",
   "metadata": {},
   "source": [
    "## Q2: Write a Pandas program to convert a dictionary to a Pandas series"
   ]
  },
  {
   "attachments": {
    "image.png": {
     "image/png": "[encoded data removed]"
    }
   },
   "cell_type": "markdown",
   "id": "73a1c456",
   "metadata": {},
   "source": [
    "![image.png](attachment:image.png)"
   ]
  },
  {
   "cell_type": "code",
   "execution_count": null,
   "id": "5ec88419",
   "metadata": {},
   "outputs": [],
   "source": [
    "myDict "
   ]
  }
 ],
 "metadata": {
  "kernelspec": {
   "display_name": "Python 3",
   "language": "python",
   "name": "python3"
  },
  "language_info": {
   "codemirror_mode": {
    "name": "ipython",
    "version": 3
   },
   "file_extension": ".py",
   "mimetype": "text/x-python",
   "name": "python",
   "nbconvert_exporter": "python",
   "pygments_lexer": "ipython3",
   "version": "3.8.8"
  }
 },
 "nbformat": 4,
 "nbformat_minor": 5
}
