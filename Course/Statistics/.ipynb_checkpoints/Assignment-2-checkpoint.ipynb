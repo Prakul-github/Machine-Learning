{
 "cells": [
  {
   "cell_type": "code",
   "execution_count": 19,
   "id": "80320674",
   "metadata": {},
   "outputs": [],
   "source": [
    "import pandas as pd\n",
    "import numpy as np\n",
    "#from IPython.display import display,HTML\n",
    "#import matplotlib.pyplot as plt\n",
    "#%matplotlib inline"
   ]
  },
  {
   "cell_type": "markdown",
   "id": "6f86cff0",
   "metadata": {},
   "source": [
    "## Q1.\tGiven below is the data of 20 patients \n",
    "Sr. No.\t1\t2\t3\t4\t5\t6\t7\t8\t9\t10\t11\t12\t13\t14\t15\t16\t17\t18\t19\t20\n",
    "Gender\tM\tM\tM\tM\tM\tM\tM\tM\tM\tM\tF\tF\tF\tF\tF\tF\tF\tF\tF\tF\n",
    "Age groups\t1\t2\t3\t1\t1\t3\t3\t2\t1\t3\t3\t2\t2\t2\t3\t1\t1\t3\t3\t2\n",
    "BMI\t23\t25\t26\t24\t23\t27\t27\t24\t21\t28\t26\t26\t23\t24\t25\t22\t19\t25\t26\t25\n",
    "DBP (B/L)\t68\t80\t85\t75\t77\t82\t80\t82\t80\t74\t75\t86\t85\t87\t83\t79\t73\t77\t82\t81\n",
    "DBP (at 30 min)\t75\t79\t90\t80\t81\t89\t92\t90\t80\t80\t89\t88\t87\t91\t88\t78\t74\t84\t83\t80\n",
    "DBP (at 60 min)\t70\t78\t85\t75\t72\t72\t75\t85\t80\t75\t85\t80\t82\t82\t85\t74\t87\t86\t85\t72\n",
    "Age groups: 1 (<30 years), 2 (30-50 years), 3 (>50 years). \n",
    "Gender: M=Male, F=Female, \n",
    "BMI=Body mass index, \n",
    "DBP=Diastolic blood pressure, \n",
    "B/L=Baseline, min=Minute\n"
   ]
  },
  {
   "cell_type": "markdown",
   "id": "019c93d2",
   "metadata": {},
   "source": [
    "## 1.a.\tRepresent the above data in a Pandas data frame with 20 observations and 6 attributes"
   ]
  },
  {
   "cell_type": "code",
   "execution_count": 18,
   "id": "6a88b7ca",
   "metadata": {},
   "outputs": [
    {
     "data": {
      "text/html": [
       "<div>\n",
       "<style scoped>\n",
       "    .dataframe tbody tr th:only-of-type {\n",
       "        vertical-align: middle;\n",
       "    }\n",
       "\n",
       "    .dataframe tbody tr th {\n",
       "        vertical-align: top;\n",
       "    }\n",
       "\n",
       "    .dataframe thead th {\n",
       "        text-align: right;\n",
       "    }\n",
       "</style>\n",
       "<table border=\"1\" class=\"dataframe\">\n",
       "  <thead>\n",
       "    <tr style=\"text-align: right;\">\n",
       "      <th></th>\n",
       "      <th>Gender</th>\n",
       "      <th>Age groups</th>\n",
       "      <th>BMI</th>\n",
       "      <th>DBP(B/L)</th>\n",
       "      <th>DBP(30min)</th>\n",
       "      <th>DBP(60min)</th>\n",
       "    </tr>\n",
       "  </thead>\n",
       "  <tbody>\n",
       "    <tr>\n",
       "      <th>0</th>\n",
       "      <td>M</td>\n",
       "      <td>1</td>\n",
       "      <td>23</td>\n",
       "      <td>68</td>\n",
       "      <td>75</td>\n",
       "      <td>70</td>\n",
       "    </tr>\n",
       "    <tr>\n",
       "      <th>1</th>\n",
       "      <td>M</td>\n",
       "      <td>2</td>\n",
       "      <td>25</td>\n",
       "      <td>80</td>\n",
       "      <td>79</td>\n",
       "      <td>78</td>\n",
       "    </tr>\n",
       "    <tr>\n",
       "      <th>2</th>\n",
       "      <td>M</td>\n",
       "      <td>3</td>\n",
       "      <td>26</td>\n",
       "      <td>85</td>\n",
       "      <td>90</td>\n",
       "      <td>85</td>\n",
       "    </tr>\n",
       "    <tr>\n",
       "      <th>3</th>\n",
       "      <td>M</td>\n",
       "      <td>1</td>\n",
       "      <td>24</td>\n",
       "      <td>75</td>\n",
       "      <td>80</td>\n",
       "      <td>75</td>\n",
       "    </tr>\n",
       "    <tr>\n",
       "      <th>4</th>\n",
       "      <td>M</td>\n",
       "      <td>1</td>\n",
       "      <td>23</td>\n",
       "      <td>77</td>\n",
       "      <td>81</td>\n",
       "      <td>72</td>\n",
       "    </tr>\n",
       "    <tr>\n",
       "      <th>5</th>\n",
       "      <td>M</td>\n",
       "      <td>3</td>\n",
       "      <td>27</td>\n",
       "      <td>82</td>\n",
       "      <td>89</td>\n",
       "      <td>72</td>\n",
       "    </tr>\n",
       "    <tr>\n",
       "      <th>6</th>\n",
       "      <td>M</td>\n",
       "      <td>3</td>\n",
       "      <td>27</td>\n",
       "      <td>80</td>\n",
       "      <td>92</td>\n",
       "      <td>75</td>\n",
       "    </tr>\n",
       "    <tr>\n",
       "      <th>7</th>\n",
       "      <td>M</td>\n",
       "      <td>2</td>\n",
       "      <td>24</td>\n",
       "      <td>82</td>\n",
       "      <td>90</td>\n",
       "      <td>85</td>\n",
       "    </tr>\n",
       "    <tr>\n",
       "      <th>8</th>\n",
       "      <td>M</td>\n",
       "      <td>1</td>\n",
       "      <td>21</td>\n",
       "      <td>80</td>\n",
       "      <td>80</td>\n",
       "      <td>80</td>\n",
       "    </tr>\n",
       "    <tr>\n",
       "      <th>9</th>\n",
       "      <td>M</td>\n",
       "      <td>3</td>\n",
       "      <td>28</td>\n",
       "      <td>74</td>\n",
       "      <td>80</td>\n",
       "      <td>75</td>\n",
       "    </tr>\n",
       "    <tr>\n",
       "      <th>10</th>\n",
       "      <td>F</td>\n",
       "      <td>3</td>\n",
       "      <td>26</td>\n",
       "      <td>75</td>\n",
       "      <td>89</td>\n",
       "      <td>85</td>\n",
       "    </tr>\n",
       "    <tr>\n",
       "      <th>11</th>\n",
       "      <td>F</td>\n",
       "      <td>2</td>\n",
       "      <td>26</td>\n",
       "      <td>86</td>\n",
       "      <td>88</td>\n",
       "      <td>80</td>\n",
       "    </tr>\n",
       "    <tr>\n",
       "      <th>12</th>\n",
       "      <td>F</td>\n",
       "      <td>2</td>\n",
       "      <td>23</td>\n",
       "      <td>85</td>\n",
       "      <td>87</td>\n",
       "      <td>82</td>\n",
       "    </tr>\n",
       "    <tr>\n",
       "      <th>13</th>\n",
       "      <td>F</td>\n",
       "      <td>2</td>\n",
       "      <td>24</td>\n",
       "      <td>87</td>\n",
       "      <td>91</td>\n",
       "      <td>82</td>\n",
       "    </tr>\n",
       "    <tr>\n",
       "      <th>14</th>\n",
       "      <td>F</td>\n",
       "      <td>3</td>\n",
       "      <td>25</td>\n",
       "      <td>83</td>\n",
       "      <td>88</td>\n",
       "      <td>85</td>\n",
       "    </tr>\n",
       "    <tr>\n",
       "      <th>15</th>\n",
       "      <td>F</td>\n",
       "      <td>1</td>\n",
       "      <td>22</td>\n",
       "      <td>79</td>\n",
       "      <td>78</td>\n",
       "      <td>74</td>\n",
       "    </tr>\n",
       "    <tr>\n",
       "      <th>16</th>\n",
       "      <td>F</td>\n",
       "      <td>1</td>\n",
       "      <td>19</td>\n",
       "      <td>73</td>\n",
       "      <td>74</td>\n",
       "      <td>87</td>\n",
       "    </tr>\n",
       "    <tr>\n",
       "      <th>17</th>\n",
       "      <td>F</td>\n",
       "      <td>3</td>\n",
       "      <td>25</td>\n",
       "      <td>77</td>\n",
       "      <td>84</td>\n",
       "      <td>86</td>\n",
       "    </tr>\n",
       "    <tr>\n",
       "      <th>18</th>\n",
       "      <td>F</td>\n",
       "      <td>3</td>\n",
       "      <td>26</td>\n",
       "      <td>82</td>\n",
       "      <td>83</td>\n",
       "      <td>85</td>\n",
       "    </tr>\n",
       "    <tr>\n",
       "      <th>19</th>\n",
       "      <td>F</td>\n",
       "      <td>2</td>\n",
       "      <td>25</td>\n",
       "      <td>81</td>\n",
       "      <td>80</td>\n",
       "      <td>72</td>\n",
       "    </tr>\n",
       "  </tbody>\n",
       "</table>\n",
       "</div>"
      ],
      "text/plain": [
       "   Gender  Age groups  BMI  DBP(B/L)  DBP(30min)  DBP(60min)\n",
       "0       M           1   23        68          75          70\n",
       "1       M           2   25        80          79          78\n",
       "2       M           3   26        85          90          85\n",
       "3       M           1   24        75          80          75\n",
       "4       M           1   23        77          81          72\n",
       "5       M           3   27        82          89          72\n",
       "6       M           3   27        80          92          75\n",
       "7       M           2   24        82          90          85\n",
       "8       M           1   21        80          80          80\n",
       "9       M           3   28        74          80          75\n",
       "10      F           3   26        75          89          85\n",
       "11      F           2   26        86          88          80\n",
       "12      F           2   23        85          87          82\n",
       "13      F           2   24        87          91          82\n",
       "14      F           3   25        83          88          85\n",
       "15      F           1   22        79          78          74\n",
       "16      F           1   19        73          74          87\n",
       "17      F           3   25        77          84          86\n",
       "18      F           3   26        82          83          85\n",
       "19      F           2   25        81          80          72"
      ]
     },
     "metadata": {},
     "output_type": "display_data"
    }
   ],
   "source": [
    "data = pd.DataFrame({ \"Gender\": ['M','M','M','M','M','M','M','M','M','M','F','F','F','F','F','F','F','F','F','F'],\n",
    "                      \"Age groups\": [1,2,3,1,1,3,3,2,1,3,3,2,2,2,3,1,1,3,3,2],\n",
    "                      \"BMI\" : [23,25,26,24,23,27,27,24,21,28,26,26,23,24,25,22,19,25,26,25],\n",
    "                      \"DBP(B/L)\" : [68,80,85,75,77,82,80,82,80,74,75,86,85,87,83,79,73,77,82,81],\n",
    "                      \"DBP(30min)\": [75,79,90,80,81,89,92,90,80,80,89,88,87,91,88,78,74,84,83,80],\n",
    "                      \"DBP(60min)\": [70,78,85,75,72,72,75,85,80,75,85,80,82,82,85,74,87,86,85,72]\n",
    "                    })\n",
    "display(data)"
   ]
  },
  {
   "cell_type": "markdown",
   "id": "2f2c1edb",
   "metadata": {},
   "source": [
    "## 1.b.\tIdentify the data in terms of categorical, numeric etc."
   ]
  },
  {
   "cell_type": "code",
   "execution_count": 33,
   "id": "523a71dc",
   "metadata": {},
   "outputs": [
    {
     "name": "stdout",
     "output_type": "stream",
     "text": [
      "Display all columns which are numeric ['Age groups', 'BMI', 'DBP(B/L)', 'DBP(30min)', 'DBP(60min)']\n",
      "Display all columns which are categorical ['Gender']\n"
     ]
    }
   ],
   "source": [
    "print(\"Display all columns which are numeric\", data.select_dtypes(include='number').columns.tolist())\n",
    "categoricalCols = [col for col in data.columns if data[col].dtype==\"O\"]\n",
    "print(\"Display all columns which are categorical\", categoricalCols)"
   ]
  },
  {
   "cell_type": "markdown",
   "id": "b61072d6",
   "metadata": {},
   "source": [
    "## 1.c.\tWrite descriptive statistics for the numeric data"
   ]
  },
  {
   "cell_type": "code",
   "execution_count": 35,
   "id": "8a6d6146",
   "metadata": {},
   "outputs": [
    {
     "name": "stdout",
     "output_type": "stream",
     "text": [
      "\n",
      "Describe Numerical data\n"
     ]
    },
    {
     "data": {
      "text/html": [
       "<div>\n",
       "<style scoped>\n",
       "    .dataframe tbody tr th:only-of-type {\n",
       "        vertical-align: middle;\n",
       "    }\n",
       "\n",
       "    .dataframe tbody tr th {\n",
       "        vertical-align: top;\n",
       "    }\n",
       "\n",
       "    .dataframe thead th {\n",
       "        text-align: right;\n",
       "    }\n",
       "</style>\n",
       "<table border=\"1\" class=\"dataframe\">\n",
       "  <thead>\n",
       "    <tr style=\"text-align: right;\">\n",
       "      <th></th>\n",
       "      <th>Age groups</th>\n",
       "      <th>BMI</th>\n",
       "      <th>DBP(B/L)</th>\n",
       "      <th>DBP(30min)</th>\n",
       "      <th>DBP(60min)</th>\n",
       "    </tr>\n",
       "  </thead>\n",
       "  <tbody>\n",
       "    <tr>\n",
       "      <th>count</th>\n",
       "      <td>20.000000</td>\n",
       "      <td>20.000000</td>\n",
       "      <td>20.000000</td>\n",
       "      <td>20.000000</td>\n",
       "      <td>20.00000</td>\n",
       "    </tr>\n",
       "    <tr>\n",
       "      <th>mean</th>\n",
       "      <td>2.100000</td>\n",
       "      <td>24.450000</td>\n",
       "      <td>79.550000</td>\n",
       "      <td>83.900000</td>\n",
       "      <td>79.25000</td>\n",
       "    </tr>\n",
       "    <tr>\n",
       "      <th>std</th>\n",
       "      <td>0.852242</td>\n",
       "      <td>2.187885</td>\n",
       "      <td>4.871777</td>\n",
       "      <td>5.580983</td>\n",
       "      <td>5.68354</td>\n",
       "    </tr>\n",
       "    <tr>\n",
       "      <th>min</th>\n",
       "      <td>1.000000</td>\n",
       "      <td>19.000000</td>\n",
       "      <td>68.000000</td>\n",
       "      <td>74.000000</td>\n",
       "      <td>70.00000</td>\n",
       "    </tr>\n",
       "    <tr>\n",
       "      <th>25%</th>\n",
       "      <td>1.000000</td>\n",
       "      <td>23.000000</td>\n",
       "      <td>76.500000</td>\n",
       "      <td>80.000000</td>\n",
       "      <td>74.75000</td>\n",
       "    </tr>\n",
       "    <tr>\n",
       "      <th>50%</th>\n",
       "      <td>2.000000</td>\n",
       "      <td>25.000000</td>\n",
       "      <td>80.000000</td>\n",
       "      <td>83.500000</td>\n",
       "      <td>80.00000</td>\n",
       "    </tr>\n",
       "    <tr>\n",
       "      <th>75%</th>\n",
       "      <td>3.000000</td>\n",
       "      <td>26.000000</td>\n",
       "      <td>82.250000</td>\n",
       "      <td>89.000000</td>\n",
       "      <td>85.00000</td>\n",
       "    </tr>\n",
       "    <tr>\n",
       "      <th>max</th>\n",
       "      <td>3.000000</td>\n",
       "      <td>28.000000</td>\n",
       "      <td>87.000000</td>\n",
       "      <td>92.000000</td>\n",
       "      <td>87.00000</td>\n",
       "    </tr>\n",
       "  </tbody>\n",
       "</table>\n",
       "</div>"
      ],
      "text/plain": [
       "       Age groups        BMI   DBP(B/L)  DBP(30min)  DBP(60min)\n",
       "count   20.000000  20.000000  20.000000   20.000000    20.00000\n",
       "mean     2.100000  24.450000  79.550000   83.900000    79.25000\n",
       "std      0.852242   2.187885   4.871777    5.580983     5.68354\n",
       "min      1.000000  19.000000  68.000000   74.000000    70.00000\n",
       "25%      1.000000  23.000000  76.500000   80.000000    74.75000\n",
       "50%      2.000000  25.000000  80.000000   83.500000    80.00000\n",
       "75%      3.000000  26.000000  82.250000   89.000000    85.00000\n",
       "max      3.000000  28.000000  87.000000   92.000000    87.00000"
      ]
     },
     "metadata": {},
     "output_type": "display_data"
    }
   ],
   "source": [
    "print (\"\\nDescribe Numerical data\")\n",
    "display(data.describe(exclude=object))"
   ]
  },
  {
   "cell_type": "markdown",
   "id": "eca1825f",
   "metadata": {},
   "source": [
    "## 1.d.\tAnalyse and represent the categorical variables in terms of percentage through a pie chart"
   ]
  },
  {
   "cell_type": "code",
   "execution_count": 93,
   "id": "95ff3f74",
   "metadata": {},
   "outputs": [
    {
     "data": {
      "text/plain": [
       "Text(0, 0.5, 'Age groups (Female)')"
      ]
     },
     "execution_count": 93,
     "metadata": {},
     "output_type": "execute_result"
    },
    {
     "data": {
      "image/png": "[encoded data removed]",
      "text/plain": [
       "<Figure size 720x360 with 2 Axes>"
      ]
     },
     "metadata": {},
     "output_type": "display_data"
    }
   ],
   "source": [
    "fig, (ax1, ax2) = plt.subplots(ncols=2, figsize=(10, 5))\n",
    "data[data.Gender == 'M'].groupby('Age groups').size().plot(kind='pie', autopct=label_function,ax=ax1).set_ylabel('Age groups (Male)', size=10)\n",
    "data[data.Gender == 'F'].groupby('Age groups').size().plot(kind='pie', autopct=label_function,ax=ax2).set_ylabel('Age groups (Female)', size=10)\n"
   ]
  },
  {
   "cell_type": "markdown",
   "id": "c308311d",
   "metadata": {},
   "source": [
    "# Q2"
   ]
  },
  {
   "cell_type": "markdown",
   "id": "e79f2654",
   "metadata": {},
   "source": [
    "## NULL Hypothesis\n",
    "\n",
    "HO : Mean strength of all 3 resin groups are same \n",
    "\n",
    "## Alternate  Hypothesis\n",
    "\n",
    "H1 : Mean strength of all 3 resin groups are not same"
   ]
  },
  {
   "cell_type": "code",
   "execution_count": 96,
   "id": "00d2f88d",
   "metadata": {},
   "outputs": [
    {
     "name": "stdout",
     "output_type": "stream",
     "text": [
      "\n",
      " F_onewayResult(statistic=4.941230994131398, pvalue=0.011825050132581737)\n",
      "Fcrit :  3.219942293176121\n"
     ]
    }
   ],
   "source": [
    "import pandas as pd\n",
    "import scipy.stats as stats\n",
    "\n",
    "data = pd.DataFrame({\"A\": [19.7,20.1,21.3,23.5,9.3,27.1,11.6,12.2,15.9,17.0,17.2,18.4,19.4,23.4,2.0], # A resin\n",
    "                     \"B\": [23.0,24.5,24.6,27.1,12.0,27.8,12.8,16.2,19.8,22.4,23.6,25.3,27.9,4.6,35.2], # B resin\n",
    "                     \"C\" : [21.6,25.5,25.9,30.7,3.0,16.5,22.7,24.2,26.2,28.4,28.5,30.7,32.2,33.8,34.5] # C resin\n",
    "                    })\n",
    "\n",
    "out=stats.f_oneway(data['A'],\n",
    "               data['B'],\n",
    "               data['C'])\n",
    "print(\"\\n\", out)\n",
    "fcrit= stats.f.ppf(q=1-.05, dfn=2, dfd=42) # dfn = number of columns(3) -1, dfd= total entries (45) - number of columns (3) \n",
    "print(\"Fcrit : \", fcrit)"
   ]
  },
  {
   "cell_type": "markdown",
   "id": "804c2078",
   "metadata": {},
   "source": [
    "## Conclusion\n",
    "\n",
    "Since Fstat > Fcrit, NULL hypothesis can be rejected. Mean strength of 3 resin groups are not same"
   ]
  },
  {
   "cell_type": "markdown",
   "id": "2ad61703",
   "metadata": {},
   "source": [
    "# Q3"
   ]
  },
  {
   "cell_type": "code",
   "execution_count": 5,
   "id": "55d86138",
   "metadata": {},
   "outputs": [
    {
     "name": "stdout",
     "output_type": "stream",
     "text": [
      "Sample mean 693520.0\n",
      "Sample standard deviation 206649.78162315575\n",
      "Number of elements 50\n",
      "CI for 99% :  618266.417113027 - 768773.582886973\n",
      "CI for 95% :  636239.6029287506 - 750800.3970712494\n",
      "CI for 90% :  645445.3810294871 - 741594.6189705129\n"
     ]
    }
   ],
   "source": [
    "import numpy as np\n",
    "\n",
    "aIncome = np.array([802000,731000,963000,832000,979000,498000,805000,531000,462000,744000,\n",
    "                  790000,746000,486000,890000,755000,822000,804000,883000,393000,748000,\n",
    "                  957000,817000,618000,940000,393000,604000,622000,710000,620000,765000,\n",
    "                  348000,399000,316000,874000,395000,399000,943000,949000,732000,634000,\n",
    "                  727000,704000,341000,980000,935000,377000,877000,840000,846000,350000])\n",
    "\n",
    "x = np.mean(aIncome)\n",
    "s = np.std(aIncome,ddof=1) # Sample standard deviation\n",
    "size = aIncome.size\n",
    "print(\"Sample mean\", x)\n",
    "print(\"Sample standard deviation\", s)\n",
    "print(\"Number of elements\", size)\n",
    "\n",
    "# Formula for Confindence Interval (x - Z * s/n, x + Z * s/n)\n",
    "# x = sample mean\n",
    "# s = sample deviation\n",
    "# n = number of samples\n",
    "\n",
    "# link for z table : https://www.ztable.net/wp-content/uploads/2018/11/positiveztable.png\n",
    "# z value for 99%, 95% and 90% are 2.575, 1.96 and 1.645 respectively\n",
    "\n",
    "print(\"CI for 99% : \",x-2.575*s/(size**0.5),\"-\", x+2.575*s/(size**0.5))\n",
    "print(\"CI for 95% : \",x-1.96*s/(size**0.5),\"-\", x+1.96*s/(size**0.5))\n",
    "print(\"CI for 90% : \",x-1.645*s/(size**0.5),\"-\", x+1.645*s/(size**0.5))"
   ]
  },
  {
   "cell_type": "markdown",
   "id": "e7dfc3a7",
   "metadata": {},
   "source": [
    "## Q4. (a)"
   ]
  },
  {
   "cell_type": "code",
   "execution_count": 3,
   "id": "efa2721b",
   "metadata": {},
   "outputs": [
    {
     "name": "stdout",
     "output_type": "stream",
     "text": [
      "z_stat: 0.798, p_value: 0.213\n"
     ]
    }
   ],
   "source": [
    "from statsmodels.stats.proportion import proportions_ztest\n",
    "import numpy as np\n",
    "\n",
    "# Ha : Pah >= Pan (Proportion in Ahmedabad is greater than or equal to Anand)\n",
    "# H0 : Pah < Pan  (Proportion in Ahmedabad is less than Anand)\n",
    "\n",
    "significance = 0.01 #  1%\n",
    "significance = 0.05 #  5%\n",
    "significance = 0.10 # 10%\n",
    "\n",
    "sample_success_Ah, sample_size_Ah = (90, 400)\n",
    "sample_success_An, sample_size_An = (60, 300)\n",
    "\n",
    "successes = np.array([sample_success_Ah, sample_success_An])\n",
    "samples = np.array([sample_size_Ah, sample_size_An])\n",
    "\n",
    "stat, p_value = proportions_ztest(count=successes, nobs=samples,  alternative='larger')\n",
    "# report\n",
    "print('z_stat: %0.3f, p_value: %0.3f' % (stat, p_value))"
   ]
  },
  {
   "cell_type": "markdown",
   "id": "ac15ecd3",
   "metadata": {},
   "source": [
    "## Conclusion\n",
    "\n",
    "P value is more than significane level for 1 %, 5% and 10% \n",
    "\n",
    "We can not reject Null hypothesis\n",
    "\n",
    "So alternative hypothesis : \"traffic laws are more enforced in Ahmedabad than Anand\" is not correct statement"
   ]
  },
  {
   "cell_type": "markdown",
   "id": "be7fa511",
   "metadata": {},
   "source": [
    "## Q4 (b)"
   ]
  },
  {
   "cell_type": "code",
   "execution_count": 10,
   "id": "eadf6f66",
   "metadata": {},
   "outputs": [
    {
     "name": "stdout",
     "output_type": "stream",
     "text": [
      "z_stat: 0.798, p_value: 0.425\n"
     ]
    }
   ],
   "source": [
    "\n",
    "# Ha : Pah != Pan (Proportion in Ahmedabad differently from Anand)\n",
    "# H0 : Pah = Pan  (Proportion in Ahmedabad is equal to Anand)\n",
    "\n",
    "significance = 0.005 # 1%\n",
    "significance = 0.025 # 5%\n",
    "significance = 0.05 # 10%)\n",
    "\n",
    "sample_success_Ah, sample_size_Ah = (90, 400)\n",
    "sample_success_An, sample_size_An = (60, 300)\n",
    "\n",
    "successes = np.array([sample_success_Ah, sample_success_An])\n",
    "samples = np.array([sample_size_Ah, sample_size_An])\n",
    "\n",
    "stat, p_value = proportions_ztest(count=successes, nobs=samples,  alternative='two-sided')\n",
    "# report\n",
    "print('z_stat: %0.3f, p_value: %0.3f' % (stat, p_value))"
   ]
  },
  {
   "cell_type": "markdown",
   "id": "ecc8dadc",
   "metadata": {},
   "source": [
    "## Conclusion\n",
    "\n",
    "P value is more than significane level for 1 %, 5% and 10% \n",
    "\n",
    "We can not reject Null hypothesis\n",
    "\n",
    "So alternative hypothesis : \"traffic laws are enforced differently in Ahmedabad than Anand\" is not correct statement"
   ]
  }
 ],
 "metadata": {
  "kernelspec": {
   "display_name": "Python 3",
   "language": "python",
   "name": "python3"
  },
  "language_info": {
   "codemirror_mode": {
    "name": "ipython",
    "version": 3
   },
   "file_extension": ".py",
   "mimetype": "text/x-python",
   "name": "python",
   "nbconvert_exporter": "python",
   "pygments_lexer": "ipython3",
   "version": "3.8.8"
  }
 },
 "nbformat": 4,
 "nbformat_minor": 5
}
