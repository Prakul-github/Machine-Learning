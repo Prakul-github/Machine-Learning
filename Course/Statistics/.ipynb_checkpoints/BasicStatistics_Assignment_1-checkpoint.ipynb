{
 "cells": [
  {
   "cell_type": "markdown",
   "id": "18cb3683",
   "metadata": {},
   "source": [
    "## Q1: 1.\tThe following is the frequency distribution of the number of telephone calls received in 245 successive one minute intervals at an exchange:\n",
    "\n",
    "Number of Calls\t0\t1\t2\t3\t4\t5\t6\t7\n",
    "   \n",
    "   Frequency\t14\t21\t25\t43\t51\t40\t39\t12\n",
    "   \n",
    "A.\tWrite a Python program without using the built-in functions for the following:\n",
    "a.\tMean\n",
    "b.\tMedian\n",
    "c.\tMode\t\n",
    "d.\tRange\n",
    "e.\tStandard deviation \n",
    "f.\tVariance \n"
   ]
  },
  {
   "cell_type": "code",
   "execution_count": 2,
   "id": "6e6ac90a",
   "metadata": {},
   "outputs": [],
   "source": [
    "calls = [0,1,2,3,4,5,6,7]\n",
    "frequency = [14,21,25,43,51,40,39,12]"
   ]
  },
  {
   "cell_type": "code",
   "execution_count": 20,
   "id": "018f5bfd",
   "metadata": {},
   "outputs": [],
   "source": [
    "totalCalls = 0\n",
    "for i in range(len(calls)):\n",
    "    totalCalls += calls[i] * frequency[i]\n",
    "    \n",
    "totalFrequency = sum(frequency)\n",
    "mean = totalCalls/ totalFrequency"
   ]
  },
  {
   "cell_type": "code",
   "execution_count": 6,
   "id": "12cca1fe",
   "metadata": {},
   "outputs": [
    {
     "data": {
      "text/plain": [
       "3.763265306122449"
      ]
     },
     "execution_count": 6,
     "metadata": {},
     "output_type": "execute_result"
    }
   ],
   "source": [
    "mean"
   ]
  },
  {
   "cell_type": "code",
   "execution_count": 15,
   "id": "4db643ee",
   "metadata": {},
   "outputs": [
    {
     "name": "stdout",
     "output_type": "stream",
     "text": [
      "Median is  4\n"
     ]
    }
   ],
   "source": [
    "#cumulative frequency\n",
    "cf = 0\n",
    "index = 0\n",
    "medianPosition = totalFrequency/2\n",
    "for f in frequency:\n",
    "    cf += f\n",
    "    if (cf >= medianPosition):\n",
    "        break\n",
    "    index += 1\n",
    "median = calls[index]\n",
    "print(\"Median is \", median)"
   ]
  },
  {
   "cell_type": "code",
   "execution_count": 17,
   "id": "a99b7085",
   "metadata": {},
   "outputs": [
    {
     "name": "stdout",
     "output_type": "stream",
     "text": [
      "Mode is  4\n"
     ]
    }
   ],
   "source": [
    "mode = 0\n",
    "modeIndex = 0\n",
    "index = 0\n",
    "for f in frequency:    \n",
    "    if (f > mode):\n",
    "        mode = f\n",
    "        modeIndex = index\n",
    "    index += 1\n",
    "        \n",
    "print(\"Mode is \", calls[modeIndex])"
   ]
  },
  {
   "cell_type": "code",
   "execution_count": 19,
   "id": "cc4f8363",
   "metadata": {},
   "outputs": [
    {
     "name": "stdout",
     "output_type": "stream",
     "text": [
      "Range is  7\n"
     ]
    }
   ],
   "source": [
    "xmin = 0\n",
    "xmax = 0\n",
    "for c in calls:\n",
    "    if c < xmin:\n",
    "        xmin = c\n",
    "    if c > xmax:\n",
    "        xmax = c\n",
    "print(\"Range is \", xmax-xmin)       \n",
    "\n",
    "    "
   ]
  },
  {
   "cell_type": "code",
   "execution_count": 31,
   "id": "34e9dceb",
   "metadata": {},
   "outputs": [
    {
     "name": "stdout",
     "output_type": "stream",
     "text": [
      "846.2693877551021\n",
      "Variance is  3.4683171629307465\n"
     ]
    }
   ],
   "source": [
    "# Variance\n",
    "distanceSquare = 0\n",
    "for i in range(len(calls)):\n",
    "    distanceSquare += ((calls[i]-mean)**2)*frequency[i]\n",
    "\n",
    "variance = distanceSquare/ (totalFrequency - 1)\n",
    "print(\"Variance is \", variance)"
   ]
  },
  {
   "cell_type": "code",
   "execution_count": 25,
   "id": "663b3f8c",
   "metadata": {},
   "outputs": [
    {
     "data": {
      "text/plain": [
       "2.0"
      ]
     },
     "execution_count": 25,
     "metadata": {},
     "output_type": "execute_result"
    }
   ],
   "source": [
    "deviation = variance**(1/2)"
   ]
  },
  {
   "cell_type": "code",
   "execution_count": 40,
   "id": "9a58c6b2",
   "metadata": {},
   "outputs": [
    {
     "data": {
      "image/png": "[encoded data removed]",
      "text/plain": [
       "<Figure size 432x288 with 1 Axes>"
      ]
     },
     "metadata": {
      "needs_background": "light"
     },
     "output_type": "display_data"
    }
   ],
   "source": [
    "import matplotlib.pyplot as plt\n",
    "plt.bar(calls, frequency, width = 1)\n",
    "plt.show()"
   ]
  },
  {
   "cell_type": "markdown",
   "id": "6badf3ff",
   "metadata": {},
   "source": [
    "## Q2.\tThe following data gives the distribution of the marks of 100 students.\n",
    "    Marks\tFrequency (f)\n",
    "Less than 10\t5\n",
    "Less than 20\t13\n",
    "Less than 30\t20\n",
    "Less than 40\t32\n",
    "Less than 50\t60\n",
    "Less than 60\t80\n",
    "Less than 70\t90\n",
    "Less than 80\t100\n",
    "\n",
    "A.\tWrite a Python program to calculate the range and quartiles of the above data"
   ]
  },
  {
   "cell_type": "code",
   "execution_count": 59,
   "id": "3b16ed94",
   "metadata": {},
   "outputs": [
    {
     "name": "stdout",
     "output_type": "stream",
     "text": [
      "Range of Marks  70\n",
      "First Quartile  35.0\n",
      "Second Quartile  45.0\n",
      "Third Quartile  55.0\n",
      "Fourth Quartile  75\n"
     ]
    }
   ],
   "source": [
    "import numpy as np\n",
    "marks = [5,15,25,35,45,55,65,75]\n",
    "mfrequency = [5,8,7,12,28,20,10,10]\n",
    "\n",
    "allMarks = []\n",
    "for i in range(len(marks)):\n",
    "    for j in range(mfrequency[i]):\n",
    "        allMarks.append(marks[i])\n",
    "\n",
    "print(\"Range of Marks \", np.ptp(allMarks))\n",
    "print(\"First Quartile \", np.quantile(allMarks,0.25))\n",
    "print(\"Second Quartile \", np.median(allMarks))\n",
    "print(\"Third Quartile \", np.quantile(allMarks,0.75))\n",
    "print(\"Fourth Quartile \", np.quantile(allMarks,1))\n",
    "        "
   ]
  },
  {
   "cell_type": "code",
   "execution_count": 57,
   "id": "39115363",
   "metadata": {
    "scrolled": true
   },
   "outputs": [
    {
     "data": {
      "image/png": "[encoded data removed]",
      "text/plain": [
       "<Figure size 432x288 with 1 Axes>"
      ]
     },
     "metadata": {
      "needs_background": "light"
     },
     "output_type": "display_data"
    }
   ],
   "source": [
    "#import matplotlib.pyplot as plt\n",
    "plt.bar(marks, mfrequency, width = 10)\n",
    "plt.show()"
   ]
  },
  {
   "cell_type": "markdown",
   "id": "f8b187e5",
   "metadata": {},
   "source": [
    "## Q3.\tWrite a Python program to calculate correlation from the following data.\n",
    "\n",
    "Marks\t67\t97\t84\t78\t73\t68\t91\t87\t75\n",
    "\n",
    "Hours of Studying\t20\t40\t36\t34\t33\t28\t42\t32\t25\n"
   ]
  },
  {
   "cell_type": "code",
   "execution_count": 67,
   "id": "2937ef69",
   "metadata": {},
   "outputs": [
    {
     "data": {
      "text/html": [
       "<div>\n",
       "<style scoped>\n",
       "    .dataframe tbody tr th:only-of-type {\n",
       "        vertical-align: middle;\n",
       "    }\n",
       "\n",
       "    .dataframe tbody tr th {\n",
       "        vertical-align: top;\n",
       "    }\n",
       "\n",
       "    .dataframe thead th {\n",
       "        text-align: right;\n",
       "    }\n",
       "</style>\n",
       "<table border=\"1\" class=\"dataframe\">\n",
       "  <thead>\n",
       "    <tr style=\"text-align: right;\">\n",
       "      <th></th>\n",
       "      <th>marks</th>\n",
       "      <th>Hours Of Studying</th>\n",
       "    </tr>\n",
       "  </thead>\n",
       "  <tbody>\n",
       "    <tr>\n",
       "      <th>marks</th>\n",
       "      <td>1.000000</td>\n",
       "      <td>0.839333</td>\n",
       "    </tr>\n",
       "    <tr>\n",
       "      <th>Hours Of Studying</th>\n",
       "      <td>0.839333</td>\n",
       "      <td>1.000000</td>\n",
       "    </tr>\n",
       "  </tbody>\n",
       "</table>\n",
       "</div>"
      ],
      "text/plain": [
       "                      marks  Hours Of Studying\n",
       "marks              1.000000           0.839333\n",
       "Hours Of Studying  0.839333           1.000000"
      ]
     },
     "execution_count": 67,
     "metadata": {},
     "output_type": "execute_result"
    }
   ],
   "source": [
    "import pandas as pd\n",
    "\n",
    "data = {\n",
    "\"marks\" : [67, 97, 84, 78, 73, 68, 91, 87, 75],\n",
    "\"Hours Of Studying\" : [20, 40, 36, 34, 33, 28, 42, 32, 25] \n",
    "}\n",
    "\n",
    "df = pd.DataFrame(data)\n",
    "df.corr()"
   ]
  },
  {
   "cell_type": "code",
   "execution_count": 68,
   "id": "1a9a78a4",
   "metadata": {},
   "outputs": [
    {
     "data": {
      "image/png": "[encoded data removed]",
      "text/plain": [
       "<Figure size 432x288 with 1 Axes>"
      ]
     },
     "metadata": {
      "needs_background": "light"
     },
     "output_type": "display_data"
    }
   ],
   "source": [
    "df.plot(kind = 'scatter', x = 'marks', y = 'Hours Of Studying')\n",
    "plt.show()"
   ]
  },
  {
   "cell_type": "markdown",
   "id": "1ff04297",
   "metadata": {},
   "source": [
    "## Q4.\tWrite a python program to simulate 100000 occurrences of a  random variable Y which is equal to sum of two different random variables X and Z, where X follows a normal distribution with mean = 50 and variance = 20 and Z follows a Poisson distribution with mean = 40. Draw a histogram of the simulation"
   ]
  },
  {
   "cell_type": "code",
   "execution_count": 65,
   "id": "a46e5ac4",
   "metadata": {},
   "outputs": [
    {
     "data": {
      "image/png": "[encoded data removed]",
      "text/plain": [
       "<Figure size 432x288 with 1 Axes>"
      ]
     },
     "metadata": {
      "needs_background": "light"
     },
     "output_type": "display_data"
    }
   ],
   "source": [
    "import math\n",
    "x = np.random.normal(50, math.sqrt(20), 100000)\n",
    "y = np.random.poisson(40, 100000)\n",
    "z = x + y\n",
    "\n",
    "plt.hist(z)\n",
    "plt.show() "
   ]
  },
  {
   "cell_type": "markdown",
   "id": "80a10aa4",
   "metadata": {},
   "source": [
    "## Q5. The table below lists the change in daily stock prices for 4 companies – Microsoft, GE, Intel and GM. Write a python program to make a side by side box plot for visualization of this data."
   ]
  },
  {
   "cell_type": "code",
   "execution_count": 4,
   "id": "ff80c9f2",
   "metadata": {},
   "outputs": [],
   "source": [
    "import pandas as pd\n",
    "import matplotlib.pyplot as plt\n",
    "stocksData = pd.read_csv(\"dailyStockPriceData.csv\")"
   ]
  },
  {
   "cell_type": "code",
   "execution_count": 5,
   "id": "787985f0",
   "metadata": {},
   "outputs": [
    {
     "data": {
      "image/png": "[encoded data removed]",
      "text/plain": [
       "<Figure size 432x288 with 1 Axes>"
      ]
     },
     "metadata": {
      "needs_background": "light"
     },
     "output_type": "display_data"
    }
   ],
   "source": [
    "stocksData.plot(kind='box')\n",
    "plt.show()\n"
   ]
  },
  {
   "cell_type": "code",
   "execution_count": null,
   "id": "e885fb2d",
   "metadata": {},
   "outputs": [],
   "source": []
  },
  {
   "cell_type": "code",
   "execution_count": null,
   "id": "3da5229e",
   "metadata": {},
   "outputs": [],
   "source": []
  }
 ],
 "metadata": {
  "kernelspec": {
   "display_name": "Python 3",
   "language": "python",
   "name": "python3"
  },
  "language_info": {
   "codemirror_mode": {
    "name": "ipython",
    "version": 3
   },
   "file_extension": ".py",
   "mimetype": "text/x-python",
   "name": "python",
   "nbconvert_exporter": "python",
   "pygments_lexer": "ipython3",
   "version": "3.8.8"
  }
 },
 "nbformat": 4,
 "nbformat_minor": 5
}
