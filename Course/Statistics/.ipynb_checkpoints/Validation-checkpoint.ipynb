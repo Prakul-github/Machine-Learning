{
 "cells": [
  {
   "cell_type": "code",
   "execution_count": 8,
   "id": "a4b07668",
   "metadata": {},
   "outputs": [],
   "source": [
    "import numpy as np"
   ]
  },
  {
   "cell_type": "code",
   "execution_count": 4,
   "id": "bb922133",
   "metadata": {},
   "outputs": [],
   "source": [
    "data = []\n",
    "calls = [0,1,2,3,4,5,6,7]\n",
    "frequency = [14,21,25,43,51,40,39,12]\n",
    "for i in range(len(calls)):\n",
    "    for j in range(frequency[i]):\n",
    "        data.append(calls[i])      \n",
    "    "
   ]
  },
  {
   "cell_type": "code",
   "execution_count": 12,
   "id": "c624dd8d",
   "metadata": {},
   "outputs": [
    {
     "name": "stdout",
     "output_type": "stream",
     "text": [
      "245\n"
     ]
    }
   ],
   "source": [
    "#print(data)\n",
    "totalFrequency = sum(frequency)\n",
    "print(totalFrequency)"
   ]
  },
  {
   "cell_type": "code",
   "execution_count": 11,
   "id": "6b682d9d",
   "metadata": {},
   "outputs": [
    {
     "name": "stdout",
     "output_type": "stream",
     "text": [
      "3.763265306122449\n",
      "4.0\n",
      "1.8585372652565662\n",
      "3.4541607663473557\n"
     ]
    }
   ],
   "source": [
    "print(np.mean(data))\n",
    "print(np.median(data))\n",
    "#np.range(data)\n",
    "print(np.std(data))\n",
    "print(np.var(data))"
   ]
  },
  {
   "cell_type": "code",
   "execution_count": null,
   "id": "1fe59873",
   "metadata": {},
   "outputs": [],
   "source": []
  }
 ],
 "metadata": {
  "kernelspec": {
   "display_name": "Python 3",
   "language": "python",
   "name": "python3"
  },
  "language_info": {
   "codemirror_mode": {
    "name": "ipython",
    "version": 3
   },
   "file_extension": ".py",
   "mimetype": "text/x-python",
   "name": "python",
   "nbconvert_exporter": "python",
   "pygments_lexer": "ipython3",
   "version": "3.8.8"
  }
 },
 "nbformat": 4,
 "nbformat_minor": 5
}
