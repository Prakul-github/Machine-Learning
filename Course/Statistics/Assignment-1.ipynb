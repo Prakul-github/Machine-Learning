{
 "cells": [
  {
   "cell_type": "markdown",
   "id": "558aa5fe",
   "metadata": {},
   "source": [
    "## Q1"
   ]
  },
  {
   "cell_type": "code",
   "execution_count": 15,
   "id": "3a4f8d81",
   "metadata": {},
   "outputs": [
    {
     "name": "stdout",
     "output_type": "stream",
     "text": [
      "Cummulative frequency -> 245\n",
      "Mean ->  3.763265306122449\n",
      "Mode ->  4\n",
      "Range ->  7\n",
      "Mid frequency -> 123.0\n",
      "Median ->  4\n",
      "Variance ->  3.4541607663473557\n",
      "standard deviation ->  1.8585372652565662\n"
     ]
    }
   ],
   "source": [
    "callrecords = { 0 : 14, 1: 21, 2: 25, 3: 43, 4: 51, 5: 40, 6: 39, 7: 12  }\n",
    "\n",
    "TSum =0\n",
    "TCnt =0\n",
    "maxV =0\n",
    "\n",
    "for key, value in callrecords.items():\n",
    "    if value > maxV:\n",
    "       mode = key\n",
    "       maxV = value\n",
    "    TSum += key * value\n",
    "    TCnt += value\n",
    "    \n",
    "mean = TSum/TCnt\n",
    "rangeV = list(callrecords.keys())[len(callrecords)-1] - list(callrecords.keys())[0]\n",
    "print (\"Cummulative frequency ->\", TCnt)\n",
    "print (\"Mean -> \", mean)\n",
    "print (\"Mode -> \", mode)  # data with highest frequency\n",
    "print (\"Range -> \", rangeV)\n",
    "\n",
    "# find mid value\n",
    "mid = TCnt / 2\n",
    "if TCnt % 2 :\n",
    "   mid = (TCnt + 1)/2\n",
    "print (\"Mid frequency ->\", mid)  \n",
    "\n",
    "#compute variance and median\n",
    "TCnt = 0\n",
    "sqrSum = 0\n",
    "for key, value in callrecords.items():\n",
    "    if mid >= TCnt:\n",
    "       median = key\n",
    "    sqrSum += ((key - mean)**2)*value\n",
    "    TCnt += value\n",
    "    \n",
    "var = sqrSum / TCnt # variance\n",
    "std = var**0.5      # standard deviation\n",
    "   \n",
    "print (\"Median -> \", median)\n",
    "print (\"Variance -> \", var)\n",
    "print (\"standard deviation -> \", std)"
   ]
  },
  {
   "cell_type": "markdown",
   "id": "4f531a5b",
   "metadata": {},
   "source": [
    "#### Frequency distribution using histogram"
   ]
  },
  {
   "cell_type": "code",
   "execution_count": 16,
   "id": "7873439a",
   "metadata": {},
   "outputs": [
    {
     "data": {
      "text/plain": [
       "(array([14., 21., 25.,  0., 43., 51.,  0., 40., 39., 12.]),\n",
       " array([0. , 0.7, 1.4, 2.1, 2.8, 3.5, 4.2, 4.9, 5.6, 6.3, 7. ]),\n",
       " <BarContainer object of 10 artists>)"
      ]
     },
     "execution_count": 16,
     "metadata": {},
     "output_type": "execute_result"
    },
    {
     "data": {
      "image/png": "[encoded data removed]",
      "text/plain": [
       "<Figure size 432x288 with 1 Axes>"
      ]
     },
     "metadata": {
      "needs_background": "light"
     },
     "output_type": "display_data"
    }
   ],
   "source": [
    "import matplotlib.pyplot as plt\n",
    "%matplotlib inline\n",
    "\n",
    "data = []\n",
    "for key, value in callrecords.items():\n",
    "   for i in range(value):\n",
    "      data.append(key)\n",
    " \n",
    "plt.hist(data)"
   ]
  },
  {
   "cell_type": "markdown",
   "id": "e47ce1bd",
   "metadata": {},
   "source": [
    "## Q2"
   ]
  },
  {
   "cell_type": "code",
   "execution_count": 11,
   "id": "1f0354c1",
   "metadata": {},
   "outputs": [
    {
     "name": "stdout",
     "output_type": "stream",
     "text": [
      "Q1 -> 34.166666666666664\n",
      "Q3 -> 57.5\n",
      "IQR -> 23.333333333333336\n"
     ]
    }
   ],
   "source": [
    "marksDist = { 10 : 5, 20: 13, 30: 20, 40: 32, 50: 60, 60: 80, 70: 90, 80: 100  } # cummulative frequency dist. for group data\n",
    "# Key 10 indicates 0-10\n",
    "# Key 20 indicates 10-20\n",
    "# ...\n",
    "# Key 80 indicates 70-80\n",
    "\n",
    "# Formula for Q1\n",
    "# Q1 = L + (((1N/4) - cf) / f) * cw\n",
    "# Q3 = L + (((3N/4) - cf) / f) * cw\n",
    "# IQR = Q3 - Q1\n",
    "\n",
    "# L, f corresponds to lower limit, frequency respectively for class range corresponding to 1N/4 or 3N/4\n",
    "# cw is class width\n",
    "# cf corresponds to cummulative frequency for previous class range\n",
    "\n",
    "cfList = list(marksDist.values())\n",
    "N = cfList[len(cfList)-1]\n",
    "cw = 10 # class width\n",
    "q1cls=0\n",
    "q3cls=0\n",
    "q1_cf=0\n",
    "q3_cf=0\n",
    "\n",
    "# find class for Q1 and Q3\n",
    "for key, value in marksDist.items():\n",
    "   if N/4 <= value:\n",
    "      if q1cls == 0:\n",
    "        q1cls = key\n",
    "        q1f   = value - q1_cf\n",
    "   else:\n",
    "      q1_cf = value\n",
    "   \n",
    "   if 3*N/4 <= value:\n",
    "      if q3cls == 0:\n",
    "        q3cls = key\n",
    "        q3f   = value - q3_cf\n",
    "   else:\n",
    "      q3_cf = value\n",
    "\n",
    "q1val = (q1cls-cw) + (N/4 - q1_cf)*cw/q1f\n",
    "q3val = (q3cls-cw) + (3*N/4 - q3_cf)*cw/q3f\n",
    "print(\"Q1 ->\",  q1val)\n",
    "print(\"Q3 ->\",  q3val)\n",
    "print(\"IQR ->\", (q3val-q1val))\n"
   ]
  },
  {
   "cell_type": "markdown",
   "id": "8237d498",
   "metadata": {},
   "source": [
    "### plotting class interval vs cf"
   ]
  },
  {
   "cell_type": "code",
   "execution_count": 23,
   "id": "b7e58230",
   "metadata": {},
   "outputs": [
    {
     "data": {
      "text/plain": [
       "([<matplotlib.axis.XTick at 0x22948299220>,\n",
       "  <matplotlib.axis.XTick at 0x2294831f160>,\n",
       "  <matplotlib.axis.XTick at 0x2294830cd30>,\n",
       "  <matplotlib.axis.XTick at 0x2294835d070>,\n",
       "  <matplotlib.axis.XTick at 0x2294835d580>,\n",
       "  <matplotlib.axis.XTick at 0x2294835da90>,\n",
       "  <matplotlib.axis.XTick at 0x2294835dfa0>,\n",
       "  <matplotlib.axis.XTick at 0x2294835d5e0>,\n",
       "  <matplotlib.axis.XTick at 0x22948362340>],\n",
       " [Text(0, 0, ''),\n",
       "  Text(0, 0, ''),\n",
       "  Text(0, 0, ''),\n",
       "  Text(0, 0, ''),\n",
       "  Text(0, 0, ''),\n",
       "  Text(0, 0, ''),\n",
       "  Text(0, 0, ''),\n",
       "  Text(0, 0, ''),\n",
       "  Text(0, 0, '')])"
      ]
     },
     "execution_count": 23,
     "metadata": {},
     "output_type": "execute_result"
    },
    {
     "data": {
      "image/png": "[encoded data removed]",
      "text/plain": [
       "<Figure size 432x288 with 1 Axes>"
      ]
     },
     "metadata": {
      "needs_background": "light"
     },
     "output_type": "display_data"
    }
   ],
   "source": [
    "data = []\n",
    "for key, value in marksDist.items():\n",
    "   for i in range(value):\n",
    "      data.append((key + (key-cw))/2)\n",
    "        \n",
    "bins = [0,10,20,30,40,50,60,70,80]\n",
    "plt.hist(data, bins=bins)\n",
    "plt.xticks(bins)"
   ]
  },
  {
   "cell_type": "markdown",
   "id": "e73f948f",
   "metadata": {},
   "source": [
    "## Q3."
   ]
  },
  {
   "cell_type": "code",
   "execution_count": 1,
   "id": "aadecf02",
   "metadata": {},
   "outputs": [
    {
     "name": "stdout",
     "output_type": "stream",
     "text": [
      "Pearson correlation coefficient -> 0.8393326361549273\n"
     ]
    }
   ],
   "source": [
    "import pandas as pd\n",
    "\n",
    "marks = pd.Series([67,97,84,78,73,68,91,87,75])\n",
    "hrStudy = pd.Series([20,40,36,34,33,28,42,32,25])\n",
    "cor = marks.corr(hrStudy)\n",
    "cor\n",
    "print (\"Pearson correlation coefficient ->\", cor)"
   ]
  },
  {
   "cell_type": "markdown",
   "id": "312c481c",
   "metadata": {},
   "source": [
    "## Q4."
   ]
  },
  {
   "cell_type": "code",
   "execution_count": 39,
   "id": "d1a49db0",
   "metadata": {},
   "outputs": [
    {
     "name": "stdout",
     "output_type": "stream",
     "text": [
      "X --> [49.78849992 49.60590354 49.64246391 ... 53.90698755 54.54641045\n",
      " 50.17391392]\n",
      "Z --> [53 38 35 ... 49 36 39]\n"
     ]
    },
    {
     "data": {
      "text/plain": [
       "(array([7.5000e+01, 1.2720e+03, 8.2890e+03, 2.3807e+04, 3.3060e+04,\n",
       "        2.3194e+04, 8.4040e+03, 1.7000e+03, 1.8800e+02, 1.1000e+01]),\n",
       " array([ 60.10502196,  66.73023308,  73.3554442 ,  79.98065533,\n",
       "         86.60586645,  93.23107757,  99.85628869, 106.48149982,\n",
       "        113.10671094, 119.73192206, 126.35713318]),\n",
       " <BarContainer object of 10 artists>)"
      ]
     },
     "execution_count": 39,
     "metadata": {},
     "output_type": "execute_result"
    },
    {
     "data": {
      "image/png": "[encoded data removed]",
      "text/plain": [
       "<Figure size 432x288 with 1 Axes>"
      ]
     },
     "metadata": {
      "needs_background": "light"
     },
     "output_type": "display_data"
    }
   ],
   "source": [
    "import numpy as np\n",
    "X=np.random.normal(50,(20**0.5),100000)\n",
    "print(\"X -->\", X)\n",
    "Z=np.random.poisson(40,100000)\n",
    "print(\"Z -->\", Z)\n",
    "Y=[i+j for i,j in zip(X,Z)]\n",
    "\n",
    "plt.hist(Y)"
   ]
  },
  {
   "cell_type": "markdown",
   "id": "e8d86a91",
   "metadata": {},
   "source": [
    "## Q5"
   ]
  },
  {
   "cell_type": "code",
   "execution_count": 41,
   "id": "25e409b6",
   "metadata": {},
   "outputs": [
    {
     "data": {
      "text/html": [
       "<div>\n",
       "<style scoped>\n",
       "    .dataframe tbody tr th:only-of-type {\n",
       "        vertical-align: middle;\n",
       "    }\n",
       "\n",
       "    .dataframe tbody tr th {\n",
       "        vertical-align: top;\n",
       "    }\n",
       "\n",
       "    .dataframe thead th {\n",
       "        text-align: right;\n",
       "    }\n",
       "</style>\n",
       "<table border=\"1\" class=\"dataframe\">\n",
       "  <thead>\n",
       "    <tr style=\"text-align: right;\">\n",
       "      <th></th>\n",
       "      <th>Microsoft</th>\n",
       "      <th>GE</th>\n",
       "      <th>Intel</th>\n",
       "      <th>GM</th>\n",
       "    </tr>\n",
       "  </thead>\n",
       "  <tbody>\n",
       "    <tr>\n",
       "      <th>0</th>\n",
       "      <td>0.121519</td>\n",
       "      <td>0.040486</td>\n",
       "      <td>0.037267</td>\n",
       "      <td>0.022284</td>\n",
       "    </tr>\n",
       "    <tr>\n",
       "      <th>1</th>\n",
       "      <td>0.047404</td>\n",
       "      <td>-0.003890</td>\n",
       "      <td>-0.053890</td>\n",
       "      <td>-0.035420</td>\n",
       "    </tr>\n",
       "    <tr>\n",
       "      <th>2</th>\n",
       "      <td>0.258621</td>\n",
       "      <td>0.083516</td>\n",
       "      <td>0.221519</td>\n",
       "      <td>0.115819</td>\n",
       "    </tr>\n",
       "    <tr>\n",
       "      <th>3</th>\n",
       "      <td>0.041096</td>\n",
       "      <td>0.005445</td>\n",
       "      <td>-0.025910</td>\n",
       "      <td>-0.020570</td>\n",
       "    </tr>\n",
       "    <tr>\n",
       "      <th>4</th>\n",
       "      <td>-0.125000</td>\n",
       "      <td>0.034296</td>\n",
       "      <td>-0.053190</td>\n",
       "      <td>-0.021000</td>\n",
       "    </tr>\n",
       "    <tr>\n",
       "      <th>...</th>\n",
       "      <td>...</td>\n",
       "      <td>...</td>\n",
       "      <td>...</td>\n",
       "      <td>...</td>\n",
       "    </tr>\n",
       "    <tr>\n",
       "      <th>125</th>\n",
       "      <td>0.000000</td>\n",
       "      <td>0.140948</td>\n",
       "      <td>0.121948</td>\n",
       "      <td>0.276619</td>\n",
       "    </tr>\n",
       "    <tr>\n",
       "      <th>126</th>\n",
       "      <td>-0.136080</td>\n",
       "      <td>-0.014710</td>\n",
       "      <td>-0.444910</td>\n",
       "      <td>-0.099570</td>\n",
       "    </tr>\n",
       "    <tr>\n",
       "      <th>127</th>\n",
       "      <td>0.141969</td>\n",
       "      <td>-0.049840</td>\n",
       "      <td>0.082707</td>\n",
       "      <td>-0.044230</td>\n",
       "    </tr>\n",
       "    <tr>\n",
       "      <th>128</th>\n",
       "      <td>-0.166970</td>\n",
       "      <td>-0.095780</td>\n",
       "      <td>-0.153720</td>\n",
       "      <td>-0.195170</td>\n",
       "    </tr>\n",
       "    <tr>\n",
       "      <th>129</th>\n",
       "      <td>-0.244010</td>\n",
       "      <td>-0.029560</td>\n",
       "      <td>-0.210180</td>\n",
       "      <td>0.029040</td>\n",
       "    </tr>\n",
       "  </tbody>\n",
       "</table>\n",
       "<p>130 rows × 4 columns</p>\n",
       "</div>"
      ],
      "text/plain": [
       "     Microsoft        GE     Intel        GM\n",
       "0     0.121519  0.040486  0.037267  0.022284\n",
       "1     0.047404 -0.003890 -0.053890 -0.035420\n",
       "2     0.258621  0.083516  0.221519  0.115819\n",
       "3     0.041096  0.005445 -0.025910 -0.020570\n",
       "4    -0.125000  0.034296 -0.053190 -0.021000\n",
       "..         ...       ...       ...       ...\n",
       "125   0.000000  0.140948  0.121948  0.276619\n",
       "126  -0.136080 -0.014710 -0.444910 -0.099570\n",
       "127   0.141969 -0.049840  0.082707 -0.044230\n",
       "128  -0.166970 -0.095780 -0.153720 -0.195170\n",
       "129  -0.244010 -0.029560 -0.210180  0.029040\n",
       "\n",
       "[130 rows x 4 columns]"
      ]
     },
     "metadata": {},
     "output_type": "display_data"
    }
   ],
   "source": [
    "import pandas as pd\n",
    "stockp = pd.DataFrame({\"Microsoft\": [0.121519,0.047404,0.258621,0.041096,-0.125,-0.07519,0.02439,0.011905,0.133333,\n",
    "                                     0.041522,0.303987,0.057325,0.022892,-0.06714,0.108586,-0.06891,0.078899,0.159864,\n",
    "                                     0.043988,0.054775,0.035952,0.143959,0.080899,0.027027,-0.04049,-0.06962,0.097506,\n",
    "                                     -0.13223,0.039286,0.024055,0.080537,0.102484,0.049296,-0.08322,0.013177,-0.03613,\n",
    "                                     0.109445,-0.07568,0.083333,-0.04993,-0.15909,0.015203,0.09817,-0.02879,-0.00156,\n",
    "                                     0.007813,0.055814,-0.03084,0.027273,0.091445,0.162162,-0.03953,-0.00242,0.128641,\n",
    "                                     -0.03441,0.122494,-0.00198,-0.02783,-0.02863,0.061053,0.128968,0.149385,0.035933,\n",
    "                                     0.067159,0.001383,0.022099,-0.02162,0.104972,-0.12875,0.007174,0.054131,0.066892,\n",
    "                                     0.044965,0.098182,0.048565,0.011579,-0.01873,0.039236,0.076531,0.040758,0.142987,\n",
    "                                     0.053386,0.234493,-0.04412,-0.05962,0.325153,0.020576,0.019153,0.119683,-0.06581,\n",
    "                                     0.000946,-0.01748,0.088462,-0.08657,0.154255,0.136154,0.056047,0.006983,-0.05895,\n",
    "                                     0.277819,0.014418,-0.12735,0.147231,-0.03805,0.152302,0.136783,0.26183,-0.14214,\n",
    "                                     0.194005,-0.09275,-0.00769,0.117738,-0.04851,0.07866,-0.02161,0.022084,-0.01637,\n",
    "                                     0.282306,-0.16167,-0.08685,0.188811,-0.34353,-0.10305,0.278721,-0.12734,0,-0.13608,\n",
    "                                     0.141969,-0.16697,-0.24401],\n",
    "                       \"GE\": [0.040486,-0.00389,0.083516,0.005445,0.034296,-0.13438,-0.11339,-0.04587,0.052885,0.05726,\n",
    "                              0.115468,0.070469,0.023897,0.016158,0.099081,-0.04207,-0.01014,0.022184,-0.06664,-0.00541,\n",
    "                              -0.06159,0.189961,-0.01634,0.04485,-0.02957,0.011551,-0.00326,0.025205,-0.01608,-0.03268,\n",
    "                              0.065405,-0.01917,0.084691,0.034595,0.00731,-0.02322,0.066924,0.01683,0.023448,0.039137,\n",
    "                              0.028721,-0.00254,-0.01776,0.011734,0.014175,0.073393,0.027414,-0.02204,-0.04418,-0.0475,\n",
    "                              0.044619,-0.05558,0.080429,-0.01241,-0.02543,0.015584,-0.05882,0.117609,0.009804,0.063107,\n",
    "                              -0.00621,0.037037,0.035714,-0.02095,0.046563,-0.00212,0.089766,-0.00784,0.061265,0.079479,\n",
    "                              0.065972,-0.01629,0.03755,-0.00803,0.071197,0.048338,-0.04657,0.010638,0.100271,0.063187,\n",
    "                              0.074935,-0.04428,0.046776,-0.00604,-0.03018,0.118388,0.087838,0.076605,0.082846,-0.10784,\n",
    "                              0.092068,-0.05051,0.143133,-0.00271,0.056218,0.003226,0.112379,-0.0116,-0.02128,0.089955,\n",
    "                              -0.01252,-0.10552,-0.00172,0.099764,0.032857,0.132503,0.028186,-0.0435,0.106293,-0.04746,\n",
    "                              -0.03499,0.111248,-0.0323,0.03039,0.058765,0.142857,-0.03967,0.192392,-0.13651,-0.00935,\n",
    "                              0.178735,0.010442,0.005167,0.005931,-0.0269,0.140948,-0.01471,-0.04984,-0.09578,-0.02956],\n",
    "                       \"Intel\": [0.037267,-0.05389,0.221519,-0.02591,-0.05319,-0.25,-0.00375,0.007519,0.119403,0.026667,\n",
    "                                 0.188312,0.043716,-0.02094,0.053476,0.13198,-0.16592,0.010753,0.053191,-0.14646,-0.03846,\n",
    "                                 0.009231,0.195122,0.221939,0.060543,-0.12992,-0.03167,-0.06542,0.14,0.048246,-0.02929,\n",
    "                                 0.133621,0.028137,0.059259,0.216783,0.228161,0.091335,-0.01288,-0.17196,0.165572,-0.00789,\n",
    "                                 -0.04909,0.229665,0.101167,-0.1053,-0.02767,0.00813,0.053226,0.05364,-0.01818,-0.09556,0.02459,\n",
    "                                 -0.064,0.013932,0.109705,-0.06464,0.011138,0.016097,0.011881,0.087045,0.14955,0.064263,0.206892,\n",
    "                                 0.096459,0.128062,0.027285,-0.05577,-0.01833,0.160415,-0.1288,-0.06776,-0.026,0.064781,-0.03294,\n",
    "                                 0.191912,0.114391,-0.02732,0.02366,0.062396,0.195771,0.151801,0.154721,0.03202,0.239523,-0.12558,\n",
    "                                 -0.01938,0.100988,-0.01061,-0.06394,0.295267,0.003404,0.002035,-0.16555,0.008117,-0.09501,0.153452,\n",
    "                                 0.107253,-0.12962,0.035612,-0.11601,0.03762,0.139123,-0.15657,0.204565,0.040087,0.207176,0.101626,\n",
    "                                 0.188719,-0.14872,-0.00886,0.029443,-0.11596,0.100578,0.159664,0.191558,-0.09582,0.042052,-0.0093,\n",
    "                                 0.07335,0.201974,0.142438,0.167589,-0.03884,-0.01652,0.07218,-0.0014,0.121948,-0.44491,0.082707,\n",
    "                                 -0.15372,-0.21018],\n",
    "                       \"GM\": [0.022284,-0.03542,0.115819,-0.02057,-0.021,-0.13137,-0.08805,0.013793,0.013605,-0.05822,0.054545,0.10069,\n",
    "                              -0.0443,-0.05298,0.217483,-0.05507,-0.02454,-0.03396,-0.01645,-0.0602,-0.11317,-0.06098,0.121212,0.170656,\n",
    "                              -0.02333,0.133106,-0.03916,0.11348,-0.05398,-0.15856,-0.0722,-0.0428,0.055285,0,0.170543,-0.00795,0.010067,\n",
    "                              0.086379,-0.01346,0.109034,0.089888,-0.02938,-0.10933,0.140719,0.111811,0.040284,0.116173,-0.04571,-0.07511,\n",
    "                              0.053364,-0.04934,-0.06512,0.022388,-0.018,-0.06716,-0.15733,-0.02975,0.104918,-0.07715,0.101608,0.032258,\n",
    "                              0.025568,0.07036,-0.02344,0.04,-0.02718,-0.00531,-0.06667,0.115429,0.090206,-0.00473,-0.01853,0.039024,0.018779,\n",
    "                              0.023502,-0.04989,-0.06921,0.026154,-0.03275,0.117188,0.082051,-0.03254,0.058296,-0.01059,-0.0432,0.045147,\n",
    "                              2.31E-10,-0.02832,0.109865,0.022222,0.066733,-0.04108,-0.04284,0.058036,-0.0463,0.19849,-0.01723,-0.00554,\n",
    "                              0.074212,-0.07043,0.08232,-0.18928,-0.05591,0.151481,0.113749,0.02415,0.254148,-0.07451,0.054353,0.023707,\n",
    "                              -0.08379,-0.04348,-0.07386,0.092025,-0.05,0.119166,0.029281,0.009549,0.108341,-0.04965,0.088743,0.130566,\n",
    "                              -0.24032,-0.17788,-0.01938,0.276619,-0.09957,-0.04423,-0.19517,0.02904]\n",
    "                      })\n",
    "display(stockp)"
   ]
  },
  {
   "cell_type": "code",
   "execution_count": 45,
   "id": "df1b4a86",
   "metadata": {},
   "outputs": [
    {
     "data": {
      "text/plain": [
       "<AxesSubplot:>"
      ]
     },
     "execution_count": 45,
     "metadata": {},
     "output_type": "execute_result"
    },
    {
     "data": {
      "image/png": "[encoded data removed]",
      "text/plain": [
       "<Figure size 432x288 with 1 Axes>"
      ]
     },
     "metadata": {
      "needs_background": "light"
     },
     "output_type": "display_data"
    }
   ],
   "source": [
    "import seaborn as sns\n",
    "\n",
    "sns.boxplot(data=stockp, showmeans=True)"
   ]
  }
 ],
 "metadata": {
  "kernelspec": {
   "display_name": "Python 3",
   "language": "python",
   "name": "python3"
  },
  "language_info": {
   "codemirror_mode": {
    "name": "ipython",
    "version": 3
   },
   "file_extension": ".py",
   "mimetype": "text/x-python",
   "name": "python",
   "nbconvert_exporter": "python",
   "pygments_lexer": "ipython3",
   "version": "3.8.8"
  }
 },
 "nbformat": 4,
 "nbformat_minor": 5
}
