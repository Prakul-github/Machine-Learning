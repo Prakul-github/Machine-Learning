{
 "cells": [
  {
   "cell_type": "code",
   "execution_count": 8,
   "id": "003808aa",
   "metadata": {},
   "outputs": [],
   "source": [
    "import numpy as np"
   ]
  },
  {
   "cell_type": "code",
   "execution_count": 4,
   "id": "281d10d9",
   "metadata": {},
   "outputs": [],
   "source": [
    "data = []\n",
    "calls = [0,1,2,3,4,5,6,7]\n",
    "frequency = [14,21,25,43,51,40,39,12]\n",
    "for i in range(len(calls)):\n",
    "    for j in range(frequency[i]):\n",
    "        data.append(calls[i])      \n",
    "    "
   ]
  },
  {
   "cell_type": "code",
   "execution_count": 12,
   "id": "d973658a",
   "metadata": {},
   "outputs": [
    {
     "name": "stdout",
     "output_type": "stream",
     "text": [
      "245\n"
     ]
    }
   ],
   "source": [
    "#print(data)\n",
    "totalFrequency = sum(frequency)\n",
    "print(totalFrequency)"
   ]
  },
  {
   "cell_type": "code",
   "execution_count": 11,
   "id": "626aebed",
   "metadata": {},
   "outputs": [
    {
     "name": "stdout",
     "output_type": "stream",
     "text": [
      "3.763265306122449\n",
      "4.0\n",
      "1.8585372652565662\n",
      "3.4541607663473557\n"
     ]
    }
   ],
   "source": [
    "print(np.mean(data))\n",
    "print(np.median(data))\n",
    "#np.range(data)\n",
    "print(np.std(data))\n",
    "print(np.var(data))"
   ]
  },
  {
   "cell_type": "code",
   "execution_count": 13,
   "id": "07d021c3",
   "metadata": {},
   "outputs": [
    {
     "data": {
      "text/plain": [
       "846.2693877551021"
      ]
     },
     "execution_count": 13,
     "metadata": {},
     "output_type": "execute_result"
    }
   ],
   "source": [
    "3.4541607663473557*245"
   ]
  },
  {
   "cell_type": "code",
   "execution_count": 14,
   "id": "588f0195",
   "metadata": {},
   "outputs": [
    {
     "name": "stdout",
     "output_type": "stream",
     "text": [
      "[[[[1 2 3]\n",
      "   [4 5 6]]\n",
      "\n",
      "  [[1 2 3]\n",
      "   [4 5 6]]]\n",
      "\n",
      "\n",
      " [[[1 2 3]\n",
      "   [4 5 6]]\n",
      "\n",
      "  [[1 2 3]\n",
      "   [4 5 6]]]]\n"
     ]
    }
   ],
   "source": [
    "import numpy as np\n",
    "\n",
    "arr = np.array([[[[1, 2, 3], [4, 5, 6]], [[1, 2, 3], [4, 5, 6]]], [[[1, 2, 3], [4, 5, 6]], [[1, 2, 3], [4, 5, 6]]]])\n",
    "\n",
    "print(arr)\n"
   ]
  },
  {
   "cell_type": "code",
   "execution_count": null,
   "id": "418fb41b",
   "metadata": {},
   "outputs": [],
   "source": []
  }
 ],
 "metadata": {
  "kernelspec": {
   "display_name": "Python 3",
   "language": "python",
   "name": "python3"
  },
  "language_info": {
   "codemirror_mode": {
    "name": "ipython",
    "version": 3
   },
   "file_extension": ".py",
   "mimetype": "text/x-python",
   "name": "python",
   "nbconvert_exporter": "python",
   "pygments_lexer": "ipython3",
   "version": "3.8.8"
  }
 },
 "nbformat": 4,
 "nbformat_minor": 5
}
