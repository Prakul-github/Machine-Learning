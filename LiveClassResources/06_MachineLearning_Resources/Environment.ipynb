{
  "nbformat": 4,
  "nbformat_minor": 0,
  "metadata": {
    "colab": {
      "name": "Environment.ipynb",
      "provenance": []
    },
    "kernelspec": {
      "name": "python3",
      "display_name": "Python 3"
    },
    "language_info": {
      "name": "python"
    }
  },
  "cells": [
    {
      "cell_type": "code",
      "execution_count": null,
      "metadata": {
        "id": "GszIe2lMxCSP"
      },
      "outputs": [],
      "source": [
        "import numpy as np\n",
        "#Enter the sum of digits in your enrollment number as seed\n",
        "\n",
        "\n",
        "def environment(seed, customers):\n",
        "  np.random.seed(43)\n",
        "  conversion_rates = np.random.uniform(0,0.2,9)\n",
        "  X = np.array(np.zeros([customers,9]))\n",
        "  for i in range(customers):\n",
        "    for j in range(9):\n",
        "      if np.random.rand() <= conversion_rates[j]:\n",
        "        X[i,j] = 1\n",
        "  return X\n",
        "\n",
        "seed = 43\n",
        "customers = 10000\n",
        "Reward_matrix = environment(seed, customers)\n",
        "print(Reward_matrix)"
      ]
    },
    {
      "cell_type": "code",
      "source": [
        ""
      ],
      "metadata": {
        "id": "GqtK411fxTog"
      },
      "execution_count": 6,
      "outputs": []
    },
    {
      "cell_type": "code",
      "source": [
        ""
      ],
      "metadata": {
        "id": "VeHXIOxVyF_h"
      },
      "execution_count": null,
      "outputs": []
    }
  ]
}