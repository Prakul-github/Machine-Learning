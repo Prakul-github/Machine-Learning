{
 "cells": [
  {
   "cell_type": "markdown",
   "metadata": {
    "id": "qMr75eSt7nte"
   },
   "source": [
    "Stock Market using Agglomaretive:"
   ]
  },
  {
   "cell_type": "code",
   "execution_count": 1,
   "metadata": {
    "id": "rHvuqO3A7M1g"
   },
   "outputs": [],
   "source": [
    "#Importing Necessary packages:\n",
    "import matplotlib.pyplot as plt\n",
    "import pandas as pd\n",
    "import datetime\n",
    "import numpy as np\n",
    "import plotly.graph_objects as go"
   ]
  },
  {
   "cell_type": "code",
   "execution_count": 2,
   "metadata": {
    "id": "3hfuT-Ap7tqD"
   },
   "outputs": [],
   "source": [
    "# A dictionary of 25 'companies_dict' is defined where 'key' is company's name \n",
    "#and 'value' is company's stock code. \n",
    "companies_dict = {\n",
    "    'Amazon':'AMZN',\n",
    "    'Apple':'AAPL',\n",
    "    'Walgreen':'WBA',\n",
    "    'Northrop Grumman':'NOC',\n",
    "    'Boeing':'BA',\n",
    "    'Lockheed Martin':'LMT',\n",
    "    'McDonalds':'MCD',\n",
    "    'Intel':'INTC',\n",
    "    'IBM':'IBM',\n",
    "    'Texas Instruments':'TXN',\n",
    "    'MasterCard':'MA',\n",
    "    'Microsoft':'MSFT',\n",
    "    'General Electrics':'GE',\n",
    "    'American Express':'AXP',\n",
    "    'Pepsi':'PEP',\n",
    "    'Coca Cola':'KO',\n",
    "    'Johnson & Johnson':'JNJ',\n",
    "    'Toyota':'TM',\n",
    "    'Honda':'HMC',\n",
    "    'Exxon':'XOM',\n",
    "    'Chevron':'CVX',\n",
    "    'Valero Energy':'VLO',\n",
    "    'Ford':'F',\n",
    "    'Bank of America':'BAC'}"
   ]
  },
  {
   "cell_type": "code",
   "execution_count": 3,
   "metadata": {
    "colab": {
     "base_uri": "https://localhost:8080/"
    },
    "id": "H1QaOkVQtivv",
    "outputId": "84e33a40-1a81-45fc-a16b-fd423d882167"
   },
   "outputs": [
    {
     "name": "stdout",
     "output_type": "stream",
     "text": [
      "Defaulting to user installation because normal site-packages is not writeable\n",
      "Requirement already satisfied: yfinance in /home/manu/.local/lib/python3.8/site-packages (0.1.64)\n",
      "Requirement already satisfied: lxml>=4.5.1 in /home/manu/.local/lib/python3.8/site-packages (from yfinance) (4.6.4)\n",
      "Requirement already satisfied: multitasking>=0.0.7 in /home/manu/.local/lib/python3.8/site-packages (from yfinance) (0.0.9)\n",
      "Requirement already satisfied: numpy>=1.15 in /usr/lib/python3/dist-packages (from yfinance) (1.17.4)\n",
      "Requirement already satisfied: requests>=2.20 in /home/manu/.local/lib/python3.8/site-packages (from yfinance) (2.21.0)\n",
      "Requirement already satisfied: pandas>=0.24 in /home/manu/.local/lib/python3.8/site-packages (from yfinance) (0.24.2)\n",
      "Requirement already satisfied: pytz>=2011k in /usr/lib/python3/dist-packages (from pandas>=0.24->yfinance) (2019.3)\n",
      "Requirement already satisfied: python-dateutil>=2.5.0 in /usr/lib/python3/dist-packages (from pandas>=0.24->yfinance) (2.7.3)\n",
      "Requirement already satisfied: urllib3<1.25,>=1.21.1 in /home/manu/.local/lib/python3.8/site-packages (from requests>=2.20->yfinance) (1.24.3)\n",
      "Requirement already satisfied: chardet<3.1.0,>=3.0.2 in /usr/lib/python3/dist-packages (from requests>=2.20->yfinance) (3.0.4)\n",
      "Requirement already satisfied: certifi>=2017.4.17 in /usr/lib/python3/dist-packages (from requests>=2.20->yfinance) (2019.11.28)\n",
      "Requirement already satisfied: idna<2.9,>=2.5 in /usr/lib/python3/dist-packages (from requests>=2.20->yfinance) (2.8)\n",
      "Note: you may need to restart the kernel to use updated packages.\n"
     ]
    }
   ],
   "source": [
    "pip install yfinance"
   ]
  },
  {
   "cell_type": "code",
   "execution_count": 4,
   "metadata": {
    "colab": {
     "base_uri": "https://localhost:8080/"
    },
    "id": "3NTggcw8712u",
    "outputId": "77dd4768-20a4-489a-eab0-e386a5c53aec"
   },
   "outputs": [
    {
     "name": "stdout",
     "output_type": "stream",
     "text": [
      "[*********************100%***********************]  24 of 24 completed\n"
     ]
    },
    {
     "data": {
      "text/plain": [
       "dict_values(['AMZN', 'AAPL', 'WBA', 'NOC', 'BA', 'LMT', 'MCD', 'INTC', 'IBM', 'TXN', 'MA', 'MSFT', 'GE', 'AXP', 'PEP', 'KO', 'JNJ', 'TM', 'HMC', 'XOM', 'CVX', 'VLO', 'F', 'BAC'])"
      ]
     },
     "execution_count": 4,
     "metadata": {},
     "output_type": "execute_result"
    }
   ],
   "source": [
    "#Stock market data is extracted from yahoo finance for three years (2015-2017).\n",
    "#The stock movement of companies would be compared based on these 6 parameters \n",
    "#:- 'High', 'Low', 'Open', 'Close', 'Volume', 'Adj Close'.\n",
    "#data_source = 'yahoo' # Source of data is yahoo finance.\n",
    "import yfinance as yf\n",
    "start_date = '2019-01-01'\n",
    "end_date = '2020-12-31'\n",
    "df = yf.download(list(companies_dict.values()),start_date,end_date)\n",
    "companies_dict.values()"
   ]
  },
  {
   "cell_type": "code",
   "execution_count": 5,
   "metadata": {
    "id": "JG1hbCEp8Kxk"
   },
   "outputs": [],
   "source": [
    "#Numpy arrays are more convenient. So 'stock_open' and 'stock_close' are defined as follows :-\n",
    "stock_open = np.array(df['Open']).T # stock_open is numpy array of transpose of df['Open']\n",
    "stock_close = np.array(df['Close']).T # stock_close is numpy array of transpose of df['Close']"
   ]
  },
  {
   "cell_type": "code",
   "execution_count": 6,
   "metadata": {
    "id": "etNAc6O28QGn"
   },
   "outputs": [],
   "source": [
    "#'movement' is defined as difference of opening and closing prices of a particular day. Positive movement suggests to go long on stock(buy) \n",
    "#and negative movement suggests to short the stock(sell).\n",
    "movements = stock_close-stock_open"
   ]
  },
  {
   "cell_type": "code",
   "execution_count": 7,
   "metadata": {
    "id": "cB3UZ_QJ8ZkR"
   },
   "outputs": [],
   "source": [
    "sum_of_movement = np.sum(movements,1)"
   ]
  },
  {
   "cell_type": "code",
   "execution_count": 8,
   "metadata": {
    "colab": {
     "base_uri": "https://localhost:8080/"
    },
    "id": "Iv9qERjj8TVE",
    "outputId": "ad617721-87ca-4460-c3c2-d1a97ce089e5"
   },
   "outputs": [
    {
     "name": "stdout",
     "output_type": "stream",
     "text": [
      "company:AAPL, Change:45.65492630004883\n",
      "company:AMZN, Change:83.1590576171875\n",
      "company:AXP, Change:-3.1598739624023438\n",
      "company:BA, Change:-169.12044525146484\n",
      "company:BAC, Change:7.530000686645508\n",
      "company:CVX, Change:-39.1300048828125\n",
      "company:F, Change:-3.8300089836120605\n",
      "company:GE, Change:-22.70151138305664\n",
      "company:HMC, Change:-5.160017013549805\n",
      "company:IBM, Change:2.9062347412109375\n",
      "company:INTC, Change:20.259933471679688\n",
      "company:JNJ, Change:-13.919937133789062\n",
      "company:KO, Change:-11.250003814697266\n",
      "company:LMT, Change:-18.349609375\n",
      "company:MA, Change:6.51043701171875\n",
      "company:MCD, Change:4.00030517578125\n",
      "company:MSFT, Change:39.709991455078125\n",
      "company:NOC, Change:-12.8299560546875\n",
      "company:PEP, Change:14.360076904296875\n",
      "company:TM, Change:-18.719985961914062\n",
      "company:TXN, Change:35.87995910644531\n",
      "company:VLO, Change:-37.07999038696289\n",
      "company:WBA, Change:-30.450027465820312\n",
      "company:XOM, Change:-39.56996154785156\n"
     ]
    }
   ],
   "source": [
    "#The company and its 'sum_of_movement' is printed:\n",
    "for i in range(len(companies_dict)):\n",
    " print('company:{}, Change:{}'.format(df['High'].columns[i],sum_of_movement[i]))"
   ]
  },
  {
   "cell_type": "code",
   "execution_count": 9,
   "metadata": {
    "id": "0wYJjB368dm1"
   },
   "outputs": [
    {
     "name": "stdout",
     "output_type": "stream",
     "text": [
      "-0.37676890090119125\n",
      "0.2998906347281705\n",
      "-0.0005758488392153424\n"
     ]
    }
   ],
   "source": [
    "#Normalization:\n",
    "from sklearn.preprocessing import Normalizer\n",
    "normalizer = Normalizer() # Define a Normalizer\n",
    "norm_movements = normalizer.fit_transform(movements) # Fit and transform\n",
    "print(norm_movements.min())\n",
    "print(norm_movements.max())\n",
    "print(norm_movements.mean())"
   ]
  },
  {
   "cell_type": "code",
   "execution_count": 10,
   "metadata": {
    "colab": {
     "base_uri": "https://localhost:8080/"
    },
    "id": "M4hwiTQA80Ll",
    "outputId": "fd216a20-ca9f-46d2-d9d3-440396d66c63"
   },
   "outputs": [
    {
     "name": "stdout",
     "output_type": "stream",
     "text": [
      "[[-3.84041922e-01 -4.41681763e-01]\n",
      " [-4.66813406e-01 -5.25668201e-01]\n",
      " [ 3.39612047e-01 -6.85510760e-02]\n",
      " [ 2.84804875e-01  2.75393483e-02]\n",
      " [ 3.47309304e-01 -2.14790582e-02]\n",
      " [ 4.44808302e-01 -1.61413476e-01]\n",
      " [ 4.88430449e-01 -6.63723959e-02]\n",
      " [ 3.92937831e-01  9.29692836e-02]\n",
      " [ 1.15678507e-01  2.99545665e-04]\n",
      " [ 4.44787616e-02  1.31370307e-01]\n",
      " [-2.40499859e-01 -1.66655440e-01]\n",
      " [-3.35150841e-01  3.38154900e-01]\n",
      " [-1.95388086e-01  3.54446119e-01]\n",
      " [-2.51911992e-01  5.19565858e-01]\n",
      " [-1.60001627e-01 -1.91457290e-01]\n",
      " [-1.14162914e-01 -8.69851176e-02]\n",
      " [-4.55092556e-01 -3.66606834e-01]\n",
      " [-2.62084032e-01  5.31315933e-01]\n",
      " [-4.12586671e-01  2.58201234e-01]\n",
      " [ 4.01379043e-03  1.77514782e-02]\n",
      " [-1.95322212e-01 -2.62701296e-01]\n",
      " [ 4.80895699e-01 -9.14189324e-02]\n",
      " [ 5.29575621e-02  2.62975433e-01]\n",
      " [ 4.77128988e-01 -8.35985577e-02]]\n"
     ]
    }
   ],
   "source": [
    "#Plotting Decision Boundaries:\n",
    "from sklearn.decomposition import PCA\n",
    "# Reduce the data\n",
    "X = PCA(n_components = 2).fit_transform(norm_movements)\n",
    "print(X)\n"
   ]
  },
  {
   "cell_type": "code",
   "execution_count": 11,
   "metadata": {
    "colab": {
     "base_uri": "https://localhost:8080/",
     "height": 435
    },
    "id": "75DfZoFn9mq2",
    "outputId": "3f2bdd11-5c69-4648-8024-977b57e8cca9"
   },
   "outputs": [
    {
     "data": {
      "image/png": "[encoded data removed]",
      "text/plain": [
       "<Figure size 720x504 with 1 Axes>"
      ]
     },
     "metadata": {
      "needs_background": "light"
     },
     "output_type": "display_data"
    }
   ],
   "source": [
    "#Dendogram with SIngle Linkage\n",
    "from scipy.cluster.hierarchy import dendrogram, linkage\n",
    "from matplotlib import pyplot as plt\n",
    "\n",
    "linked = linkage(X, 'single')\n",
    "\n",
    "\n",
    "plt.figure(figsize=(10, 7))\n",
    "dendrogram(linked,\n",
    "            orientation='top',\n",
    "            distance_sort='descending',\n",
    "            show_leaf_counts=True)\n",
    "plt.show()"
   ]
  },
  {
   "cell_type": "code",
   "execution_count": 12,
   "metadata": {
    "colab": {
     "base_uri": "https://localhost:8080/"
    },
    "id": "pYZGJegGGGnk",
    "outputId": "f3aa88cb-df82-40cc-9a1f-e7c116388f2b"
   },
   "outputs": [
    {
     "data": {
      "text/plain": [
       "array([4, 4, 0, 0, 0, 0, 0, 0, 1, 1, 3, 2, 2, 2, 3, 3, 4, 2, 2, 1, 3, 0,\n",
       "       1, 0])"
      ]
     },
     "execution_count": 12,
     "metadata": {},
     "output_type": "execute_result"
    }
   ],
   "source": [
    "from sklearn.cluster import AgglomerativeClustering\n",
    "\n",
    "cluster = AgglomerativeClustering(n_clusters=5, affinity='euclidean', linkage='ward')\n",
    "cluster.fit_predict(X)"
   ]
  },
  {
   "cell_type": "code",
   "execution_count": 13,
   "metadata": {
    "colab": {
     "base_uri": "https://localhost:8080/",
     "height": 282
    },
    "id": "53uye1vlJl4i",
    "outputId": "1fad18f4-535e-4644-838f-3e9e4fcb8861"
   },
   "outputs": [
    {
     "data": {
      "text/plain": [
       "<matplotlib.collections.PathCollection at 0x7fd882eaf670>"
      ]
     },
     "execution_count": 13,
     "metadata": {},
     "output_type": "execute_result"
    },
    {
     "data": {
      "image/png": "[encoded data removed]",
      "text/plain": [
       "<Figure size 432x288 with 1 Axes>"
      ]
     },
     "metadata": {
      "needs_background": "light"
     },
     "output_type": "display_data"
    }
   ],
   "source": [
    "plt.scatter(X[:,0],X[:,1], c=cluster.labels_, cmap='rainbow')"
   ]
  },
  {
   "cell_type": "code",
   "execution_count": 14,
   "metadata": {
    "id": "9-sWvBZvEMFC"
   },
   "outputs": [],
   "source": [
    "#Creating pipeline for narmalization and k-means clustering:\n",
    "# Import the necessary packages\n",
    "from sklearn.pipeline import make_pipeline\n",
    "from sklearn.preprocessing import Normalizer\n",
    "from sklearn.cluster import AgglomerativeClustering\n",
    "# Define a normalizer\n",
    "normalizer = Normalizer()\n",
    "# Create Kmeans model\n",
    "cluster = AgglomerativeClustering(n_clusters=5, affinity='euclidean', linkage='ward')\n",
    "# Make a pipeline chaining normalizer and kmeans\n",
    "pipeline = make_pipeline(normalizer,cluster)\n",
    "# Fit pipeline to daily stock movements\n",
    "pipeline.fit_predict(movements)\n",
    "labels = pipeline.fit_predict(movements)"
   ]
  },
  {
   "cell_type": "code",
   "execution_count": 15,
   "metadata": {
    "id": "1WegaIjQEylw"
   },
   "outputs": [],
   "source": [
    "df1 = pd.DataFrame({'labels':labels,'companies':list(companies_dict)}).sort_values(by=['labels'],axis = 0)"
   ]
  },
  {
   "cell_type": "code",
   "execution_count": 16,
   "metadata": {
    "colab": {
     "base_uri": "https://localhost:8080/",
     "height": 800
    },
    "id": "k9_2OrmQLpag",
    "outputId": "23fde725-023b-4145-acf0-00ca9f5665af"
   },
   "outputs": [
    {
     "data": {
      "text/html": [
       "<div>\n",
       "<style scoped>\n",
       "    .dataframe tbody tr th:only-of-type {\n",
       "        vertical-align: middle;\n",
       "    }\n",
       "\n",
       "    .dataframe tbody tr th {\n",
       "        vertical-align: top;\n",
       "    }\n",
       "\n",
       "    .dataframe thead th {\n",
       "        text-align: right;\n",
       "    }\n",
       "</style>\n",
       "<table border=\"1\" class=\"dataframe\">\n",
       "  <thead>\n",
       "    <tr style=\"text-align: right;\">\n",
       "      <th></th>\n",
       "      <th>labels</th>\n",
       "      <th>companies</th>\n",
       "    </tr>\n",
       "  </thead>\n",
       "  <tbody>\n",
       "    <tr>\n",
       "      <th>11</th>\n",
       "      <td>0</td>\n",
       "      <td>Microsoft</td>\n",
       "    </tr>\n",
       "    <tr>\n",
       "      <th>18</th>\n",
       "      <td>0</td>\n",
       "      <td>Honda</td>\n",
       "    </tr>\n",
       "    <tr>\n",
       "      <th>17</th>\n",
       "      <td>0</td>\n",
       "      <td>Toyota</td>\n",
       "    </tr>\n",
       "    <tr>\n",
       "      <th>12</th>\n",
       "      <td>0</td>\n",
       "      <td>General Electrics</td>\n",
       "    </tr>\n",
       "    <tr>\n",
       "      <th>13</th>\n",
       "      <td>0</td>\n",
       "      <td>American Express</td>\n",
       "    </tr>\n",
       "    <tr>\n",
       "      <th>2</th>\n",
       "      <td>1</td>\n",
       "      <td>Walgreen</td>\n",
       "    </tr>\n",
       "    <tr>\n",
       "      <th>3</th>\n",
       "      <td>1</td>\n",
       "      <td>Northrop Grumman</td>\n",
       "    </tr>\n",
       "    <tr>\n",
       "      <th>4</th>\n",
       "      <td>1</td>\n",
       "      <td>Boeing</td>\n",
       "    </tr>\n",
       "    <tr>\n",
       "      <th>6</th>\n",
       "      <td>1</td>\n",
       "      <td>McDonalds</td>\n",
       "    </tr>\n",
       "    <tr>\n",
       "      <th>7</th>\n",
       "      <td>1</td>\n",
       "      <td>Intel</td>\n",
       "    </tr>\n",
       "    <tr>\n",
       "      <th>20</th>\n",
       "      <td>2</td>\n",
       "      <td>Chevron</td>\n",
       "    </tr>\n",
       "    <tr>\n",
       "      <th>16</th>\n",
       "      <td>2</td>\n",
       "      <td>Johnson &amp; Johnson</td>\n",
       "    </tr>\n",
       "    <tr>\n",
       "      <th>15</th>\n",
       "      <td>2</td>\n",
       "      <td>Coca Cola</td>\n",
       "    </tr>\n",
       "    <tr>\n",
       "      <th>14</th>\n",
       "      <td>2</td>\n",
       "      <td>Pepsi</td>\n",
       "    </tr>\n",
       "    <tr>\n",
       "      <th>0</th>\n",
       "      <td>2</td>\n",
       "      <td>Amazon</td>\n",
       "    </tr>\n",
       "    <tr>\n",
       "      <th>10</th>\n",
       "      <td>2</td>\n",
       "      <td>MasterCard</td>\n",
       "    </tr>\n",
       "    <tr>\n",
       "      <th>1</th>\n",
       "      <td>2</td>\n",
       "      <td>Apple</td>\n",
       "    </tr>\n",
       "    <tr>\n",
       "      <th>9</th>\n",
       "      <td>3</td>\n",
       "      <td>Texas Instruments</td>\n",
       "    </tr>\n",
       "    <tr>\n",
       "      <th>8</th>\n",
       "      <td>3</td>\n",
       "      <td>IBM</td>\n",
       "    </tr>\n",
       "    <tr>\n",
       "      <th>19</th>\n",
       "      <td>3</td>\n",
       "      <td>Exxon</td>\n",
       "    </tr>\n",
       "    <tr>\n",
       "      <th>22</th>\n",
       "      <td>3</td>\n",
       "      <td>Ford</td>\n",
       "    </tr>\n",
       "    <tr>\n",
       "      <th>5</th>\n",
       "      <td>4</td>\n",
       "      <td>Lockheed Martin</td>\n",
       "    </tr>\n",
       "    <tr>\n",
       "      <th>21</th>\n",
       "      <td>4</td>\n",
       "      <td>Valero Energy</td>\n",
       "    </tr>\n",
       "    <tr>\n",
       "      <th>23</th>\n",
       "      <td>4</td>\n",
       "      <td>Bank of America</td>\n",
       "    </tr>\n",
       "  </tbody>\n",
       "</table>\n",
       "</div>"
      ],
      "text/plain": [
       "    labels          companies\n",
       "11       0          Microsoft\n",
       "18       0              Honda\n",
       "17       0             Toyota\n",
       "12       0  General Electrics\n",
       "13       0   American Express\n",
       "2        1           Walgreen\n",
       "3        1   Northrop Grumman\n",
       "4        1             Boeing\n",
       "6        1          McDonalds\n",
       "7        1              Intel\n",
       "20       2            Chevron\n",
       "16       2  Johnson & Johnson\n",
       "15       2          Coca Cola\n",
       "14       2              Pepsi\n",
       "0        2             Amazon\n",
       "10       2         MasterCard\n",
       "1        2              Apple\n",
       "9        3  Texas Instruments\n",
       "8        3                IBM\n",
       "19       3              Exxon\n",
       "22       3               Ford\n",
       "5        4    Lockheed Martin\n",
       "21       4      Valero Energy\n",
       "23       4    Bank of America"
      ]
     },
     "execution_count": 16,
     "metadata": {},
     "output_type": "execute_result"
    }
   ],
   "source": [
    "df1"
   ]
  },
  {
   "cell_type": "code",
   "execution_count": null,
   "metadata": {},
   "outputs": [],
   "source": []
  }
 ],
 "metadata": {
  "colab": {
   "name": "Agglomerative Clustring-2.ipynb",
   "provenance": []
  },
  "kernelspec": {
   "display_name": "Python 3 (ipykernel)",
   "language": "python",
   "name": "python3"
  },
  "language_info": {
   "codemirror_mode": {
    "name": "ipython",
    "version": 3
   },
   "file_extension": ".py",
   "mimetype": "text/x-python",
   "name": "python",
   "nbconvert_exporter": "python",
   "pygments_lexer": "ipython3",
   "version": "3.8.10"
  }
 },
 "nbformat": 4,
 "nbformat_minor": 4
}
