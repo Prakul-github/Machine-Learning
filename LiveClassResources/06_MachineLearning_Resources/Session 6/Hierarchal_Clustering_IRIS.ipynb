{
 "cells": [
  {
   "cell_type": "code",
   "execution_count": 3,
   "metadata": {
    "colab": {
     "base_uri": "https://localhost:8080/",
     "height": 320
    },
    "id": "oyDN4clUQELR",
    "outputId": "50fb337f-efeb-4331-a2fe-2ccd379c221f"
   },
   "outputs": [
    {
     "data": {
      "image/png": "[encoded data removed]",
      "text/plain": [
       "<Figure size 576x360 with 1 Axes>"
      ]
     },
     "metadata": {
      "needs_background": "light"
     },
     "output_type": "display_data"
    }
   ],
   "source": [
    "#Importing required libraries\n",
    " \n",
    "from sklearn.datasets import load_iris\n",
    "from sklearn.cluster import AgglomerativeClustering\n",
    "import numpy as np\n",
    "import matplotlib.pyplot as plt\n",
    " \n",
    " \n",
    "#Getting the data ready\n",
    " \n",
    "data = load_iris()\n",
    "df = data.data\n",
    "#Selecting certain features based on which clustering is done \n",
    "df = df[:,1:3]\n",
    " \n",
    "#Creating the model\n",
    " \n",
    "agg_clustering = AgglomerativeClustering(n_clusters = 3, affinity = 'euclidean', linkage = 'average')\n",
    " \n",
    "#predicting the labels\n",
    " \n",
    "labels = agg_clustering.fit_predict(df)\n",
    " \n",
    "#Plotting the results\n",
    " \n",
    "plt.figure(figsize = (8,5))\n",
    "plt.scatter(df[labels == 0 , 0] , df[labels == 0 , 1] , c = 'red')\n",
    "plt.scatter(df[labels == 1 , 0] , df[labels == 1 , 1] , c = 'blue')\n",
    "plt.scatter(df[labels == 2 , 0] , df[labels == 2 , 1] , c = 'green')\n",
    "plt.show()"
   ]
  },
  {
   "cell_type": "code",
   "execution_count": null,
   "metadata": {
    "colab": {
     "base_uri": "https://localhost:8080/",
     "height": 281
    },
    "id": "aVX3MOZMQZ_f",
    "outputId": "c3195fe1-4257-477a-aa95-c0f8daca9dfd"
   },
   "outputs": [],
   "source": [
    "#Importing libraries\n",
    "from sklearn.datasets import load_iris\n",
    "from sklearn.cluster import AgglomerativeClustering\n",
    "import numpy as np\n",
    "import matplotlib.pyplot as plt\n",
    "from scipy.cluster.hierarchy import dendrogram , linkage\n",
    " \n",
    "#Getting the data ready\n",
    " \n",
    "data = load_iris()\n",
    "df = data.data\n",
    "#Selecting certain features based on which clustering is done \n",
    "df = df[:,1:3]\n",
    " \n",
    "#Linkage Matrix\n",
    "Z = linkage(df, method = 'average')\n",
    " \n",
    "#plotting dendrogram\n",
    "dendro = dendrogram(Z)\n",
    "plt.title('Dendrogram')\n",
    "plt.ylabel('Euclidean distance')\n",
    "plt.show()"
   ]
  },
  {
   "cell_type": "code",
   "execution_count": null,
   "metadata": {},
   "outputs": [],
   "source": []
  }
 ],
 "metadata": {
  "colab": {
   "name": "Hierarchal Clustering IRIS.ipynb",
   "provenance": []
  },
  "kernelspec": {
   "display_name": "Python 3 (ipykernel)",
   "language": "python",
   "name": "python3"
  },
  "language_info": {
   "codemirror_mode": {
    "name": "ipython",
    "version": 3
   },
   "file_extension": ".py",
   "mimetype": "text/x-python",
   "name": "python",
   "nbconvert_exporter": "python",
   "pygments_lexer": "ipython3",
   "version": "3.8.10"
  }
 },
 "nbformat": 4,
 "nbformat_minor": 4
}
