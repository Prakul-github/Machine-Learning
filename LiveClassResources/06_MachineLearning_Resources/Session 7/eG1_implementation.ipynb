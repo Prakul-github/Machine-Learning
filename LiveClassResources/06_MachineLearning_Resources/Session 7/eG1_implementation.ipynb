{
 "cells": [
  {
   "cell_type": "markdown",
   "metadata": {
    "id": "-Csf3rM7g2tF"
   },
   "source": [
    "\n",
    "I will be using the seed as 24 to generate the random numbers. "
   ]
  },
  {
   "cell_type": "code",
   "execution_count": 97,
   "metadata": {
    "id": "4vLbIld5hMS4"
   },
   "outputs": [],
   "source": [
    "seed_value = 24 #decided based on the sum of digits in enrollment number as discussed above"
   ]
  },
  {
   "cell_type": "code",
   "execution_count": 113,
   "metadata": {
    "colab": {
     "base_uri": "https://localhost:8080/"
    },
    "id": "5wuc5__-kAK3",
    "outputId": "15069222-904e-4c2c-f6b0-7fd1c40225ca"
   },
   "outputs": [
    {
     "name": "stdout",
     "output_type": "stream",
     "text": [
      "\n",
      "───────────────────────────────────\n",
      "  Bandit environment is as follows  \n",
      "───────────────────────────────────\n",
      "\n",
      "\n",
      "bandit instance:  [0.9600173  0.69951205 0.99986729 0.2200673  0.36105635 0.73984099\n",
      " 0.99645573 0.31634698 0.13654458 0.38398001]\n",
      "Mean reward for the optimal arm :  0.9998672926238792\n",
      "Best Arm:  2\n",
      "number of Arms:  10\n",
      "Average Reward:  0.5813688582720551\n"
     ]
    }
   ],
   "source": [
    "#generating the bandit instances and identifying the best arm\n",
    "import numpy as np\n",
    "np.random.seed(24) # seed is decided as above\n",
    "bandit_means = np.random.uniform(0,1,10)#generating the bandit instance\n",
    "best_arm = np.argmax(bandit_means) #the best arm\n",
    "bandit_mean_optimal_arm = np.max(bandit_means) # the mean reward for the optimal arm\n",
    "number_of_arms=bandit_means.shape[0]#Total number of bandits\n",
    "print()\n",
    "print('─' * 35)  \n",
    "print('  Bandit environment is as follows  ')\n",
    "print('─' * 35)  \n",
    "print()\n",
    "print()\n",
    "print('bandit instance: ', bandit_means)\n",
    "print('Mean reward for the optimal arm : ', bandit_mean_optimal_arm)\n",
    "print('Best Arm: ', best_arm)\n",
    "print('number of Arms: ', number_of_arms)\n",
    "print('Average Reward: ', np.average(bandit_means))"
   ]
  },
  {
   "cell_type": "markdown",
   "metadata": {
    "id": "6K8m-EpslcZW"
   },
   "source": [
    "The above information will not be known to the algorithms. The environment will be generated using the above information. $\\epsilon$ is given as 0.1 and the total time horizon is T=10000."
   ]
  },
  {
   "cell_type": "code",
   "execution_count": 106,
   "metadata": {
    "id": "UHqRKnk1kXY4"
   },
   "outputs": [],
   "source": [
    "#the following information will be known to the algorithm\n",
    "epsilon = 0.1\n",
    "T = 10000\n",
    "number_of_arms=bandit_means.shape[0]"
   ]
  },
  {
   "cell_type": "markdown",
   "metadata": {
    "id": "CLhEbhia7P8_"
   },
   "source": [
    "Initialize the environment"
   ]
  },
  {
   "cell_type": "code",
   "execution_count": 107,
   "metadata": {
    "id": "SSqtqw5-7Wm-"
   },
   "outputs": [],
   "source": [
    "def bandit_environment(pulled_bandit):\n",
    "  p = bandit_means[pulled_bandit]\n",
    "  p_dummy =  np.random.uniform(0.0, 1.0)\n",
    "  reward = 1 if p_dummy < p else 0\n",
    "  return reward\n",
    "\n",
    "#reward = bandit_environment(3)\n",
    "#print(reward)\n",
    "#printing rewards for all the bandits\n",
    "# for i in range(number_of_arms):\n",
    "#   unif_reward = bandit_environment(i)\n",
    "#   print(unif_reward)"
   ]
  },
  {
   "cell_type": "markdown",
   "metadata": {
    "id": "c1Yur9LWoRBl"
   },
   "source": [
    "# Implementation of  $\\epsilon$G1 algorithm"
   ]
  },
  {
   "cell_type": "code",
   "execution_count": 108,
   "metadata": {
    "colab": {
     "base_uri": "https://localhost:8080/"
    },
    "id": "DBLl38TAoXVK",
    "outputId": "3f1e0a63-4777-42af-ab55-af650375747c"
   },
   "outputs": [
    {
     "name": "stdout",
     "output_type": "stream",
     "text": [
      "[1. 1. 1. ... 1. 1. 1.]\n"
     ]
    }
   ],
   "source": [
    "import random\n",
    "def eG1(number_of_arms, epsilon, T):\n",
    "  time_epoch=0 #the current time epoch\n",
    "  reward = np.zeros(T)\n",
    "  arm_count = np.zeros(number_of_arms) #Array to store the number of times \n",
    "  arm_reward = np.zeros(number_of_arms)\n",
    "  arm_mean = np.zeros(number_of_arms)\n",
    "  #Exploration Phase\n",
    "  while time_epoch < epsilon*T:\n",
    "    #Select arm randomly\n",
    "    i = random.randint(0,number_of_arms-1)\n",
    "    pulled_bandit_reward = bandit_environment(pulled_bandit = i)# bandit environment generated the reward\n",
    "    #   print(pulled_bandit_reward)\n",
    "    reward[time_epoch] = pulled_bandit_reward\n",
    "    arm_reward[i]+=pulled_bandit_reward\n",
    "    arm_count[i]+=1\n",
    "    arm_mean[i]=arm_reward[i]/arm_count[i]\n",
    "    time_epoch+=1\n",
    "  #select the best arm\n",
    "  best_arm=np.argmax(arm_mean)\n",
    "  #print('best arm', best_arm)\n",
    "  #Exploitation Phase\n",
    "  while time_epoch<T:\n",
    "    pulled_bandit_reward = bandit_environment(pulled_bandit = best_arm)# bandit environment generated the reward\n",
    "    reward[time_epoch] = pulled_bandit_reward\n",
    "    arm_reward[best_arm]+=pulled_bandit_reward\n",
    "    arm_count[best_arm]+=1\n",
    "    arm_mean[best_arm]=arm_reward[best_arm]/arm_count[best_arm]\n",
    "    time_epoch+=1\n",
    "  return reward\n",
    "\n",
    "#print(number_of_arms)\n",
    "#print(epsilon)\n",
    "#print(T)\n",
    "\n",
    "  \n",
    "\n",
    "reward = eG1(number_of_arms, epsilon, T)\n",
    "print(reward)"
   ]
  },
  {
   "cell_type": "code",
   "execution_count": 118,
   "metadata": {
    "colab": {
     "base_uri": "https://localhost:8080/",
     "height": 295
    },
    "id": "7fJHEsWa4mJY",
    "outputId": "f3af6b9a-eebe-4c27-a107-9871be99d8c1"
   },
   "outputs": [
    {
     "data": {
      "image/png": "[encoded data removed]",
      "text/plain": [
       "<Figure size 432x288 with 1 Axes>"
      ]
     },
     "metadata": {
      "needs_background": "light"
     },
     "output_type": "display_data"
    }
   ],
   "source": [
    "#Printing the graph for single trajectory\n",
    "# importing the required module\n",
    "import matplotlib.pyplot as plt\n",
    "\n",
    "# x axis values\n",
    "x = range(T)\n",
    "# corresponding y axis values\n",
    "y = reward\n",
    "\n",
    "# plotting the points\n",
    "plt.plot(x, y)\n",
    "\n",
    "# naming the x axis\n",
    "plt.xlabel('Number of steps')\n",
    "# naming the y axis\n",
    "plt.ylabel('Reward')\n",
    "\n",
    "# giving a title to my graph\n",
    "plt.title('Single Trajectory')\n",
    "\n",
    "# function to show the plot\n",
    "plt.show()\n"
   ]
  },
  {
   "cell_type": "code",
   "execution_count": 122,
   "metadata": {
    "colab": {
     "base_uri": "https://localhost:8080/"
    },
    "id": "43dOvWyFLNL3",
    "outputId": "7a361859-8eca-42f7-e8c2-cde62a720d02"
   },
   "outputs": [
    {
     "name": "stdout",
     "output_type": "stream",
     "text": [
      "[0.5856 0.5793 0.5774 ... 0.9989 0.9992 0.9996]\n"
     ]
    }
   ],
   "source": [
    "number_of_samples = 10000\n",
    "expected_reward = np.zeros(T)\n",
    "for experiments in range(number_of_samples):\n",
    "  r = eG1(number_of_arms, epsilon, T)\n",
    " # print(r)  \n",
    "  for j in range(T):\n",
    "    expected_reward[j]+= r[j] \n",
    " # print(expected_reward)  \n",
    "\n",
    "expected_reward = expected_reward/number_of_samples\n",
    "\n",
    "\n",
    "print(expected_reward)"
   ]
  },
  {
   "cell_type": "code",
   "execution_count": 124,
   "metadata": {
    "colab": {
     "base_uri": "https://localhost:8080/",
     "height": 295
    },
    "id": "FGWDT3xhOmt5",
    "outputId": "297f014a-1432-4a83-9584-289a96f2a2a6"
   },
   "outputs": [
    {
     "data": {
      "image/png": "[encoded data removed]",
      "text/plain": [
       "<Figure size 432x288 with 1 Axes>"
      ]
     },
     "metadata": {
      "needs_background": "light"
     },
     "output_type": "display_data"
    }
   ],
   "source": [
    "\n",
    "#Printing the graph for average trajectory\n",
    "# importing the required module\n",
    "import matplotlib.pyplot as plt\n",
    "\n",
    "# x axis values\n",
    "x = range(T)\n",
    "# corresponding y axis values\n",
    "y = expected_reward\n",
    "y1 = np.ones(T)*np.average(bandit_means)\n",
    "# plotting the points\n",
    "plt.plot(x, y)\n",
    "plt.plot(x, y1)\n",
    "\n",
    "ax = plt.gca()\n",
    "#ax.set_xlim([xmin, xmax])\n",
    "ax.set_ylim([0, 1.3])\n",
    "# naming the x axis\n",
    "plt.xlabel('Number of steps')\n",
    "# naming the y axis\n",
    "plt.ylabel('Average Reward')\n",
    "\n",
    "# giving a title to my graph\n",
    "plt.title('Average Trajectory')\n",
    "\n",
    "# function to show the plot\n",
    "plt.show()\n",
    "\n"
   ]
  },
  {
   "cell_type": "code",
   "execution_count": null,
   "metadata": {
    "id": "M5r1qUrSSmp9"
   },
   "outputs": [],
   "source": []
  }
 ],
 "metadata": {
  "colab": {
   "name": "AID554_Assignment1_soln_key.ipynb",
   "provenance": [],
   "toc_visible": true
  },
  "kernelspec": {
   "display_name": "Python 3 (ipykernel)",
   "language": "python",
   "name": "python3"
  },
  "language_info": {
   "codemirror_mode": {
    "name": "ipython",
    "version": 3
   },
   "file_extension": ".py",
   "mimetype": "text/x-python",
   "name": "python",
   "nbconvert_exporter": "python",
   "pygments_lexer": "ipython3",
   "version": "3.8.10"
  }
 },
 "nbformat": 4,
 "nbformat_minor": 4
}
